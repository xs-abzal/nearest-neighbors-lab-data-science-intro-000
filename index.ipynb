{
 "cells": [
  {
   "cell_type": "markdown",
   "metadata": {},
   "source": [
    "# Nearest Neighbors Lab"
   ]
  },
  {
   "cell_type": "markdown",
   "metadata": {},
   "source": [
    "### Introduction\n",
    "\n",
    "In this lab, you apply nearest neighbors technique to help a taxi company predict the length of their rides.  Imagine that we are hired to consult for LiftOff, a limo and taxi service that is just opening up in NYC.  Liftoff wants it's taxi drivers to target longer rides, as the longer the ride the more money it makes.  LiftOff has the following theory:\n",
    "\n",
    "* the pickup location of a taxi ride can help predict the length of the ride.  \n",
    "\n",
    "\n",
    "\n",
    "LiftOff asks us to do some analysis to write a function that will allow it to **predict the length of a taxi ride for any given location **.\n",
    "\n",
    "Our technique will be the following:\n",
    "  * **Collect** Obtain the data containing all of the taxi information, and only select the attributes of taxi trips that we need \n",
    "  * ** Explore ** Examine the attributes of our data, and plot some of our data on a map\n",
    "  * ** Train ** Write our nearest neighbors formula, and change the number of nearby trips to predict the length of a new trip\n",
    "  * ** Predict ** Use our function to predict trip lengths of new locations"
   ]
  },
  {
   "cell_type": "markdown",
   "metadata": {},
   "source": [
    "### Collect and Explore the data"
   ]
  },
  {
   "cell_type": "markdown",
   "metadata": {},
   "source": [
    "#### Collect the Data"
   ]
  },
  {
   "cell_type": "markdown",
   "metadata": {},
   "source": [
    "Luckily for us, [NYC Open Data](https://opendata.cityofnewyork.us/) collects information about NYC taxi trips and provides this data on [its website](https://data.cityofnewyork.us/Transportation/2014-Yellow-Taxi-Trip-Data/gn7m-em8n)."
   ]
  },
  {
   "cell_type": "markdown",
   "metadata": {},
   "source": [
    "![](./nyc-taxi.png)"
   ]
  },
  {
   "cell_type": "markdown",
   "metadata": {},
   "source": [
    "For your reading pleasure, the data has already been downloaded into the [trips.json](https://github.com/learn-co-curriculum/nearest-neighbors-lab/blob/master/trips.json) file in this lab which you can find here.  We'll use Python's `json` library to take the data from the `trips.json` file and store it as a variable in our notebook."
   ]
  },
  {
   "cell_type": "code",
   "execution_count": 1,
   "metadata": {},
   "outputs": [
    {
     "data": {
      "text/plain": [
       "{'dropoff_datetime': '2014-11-26T22:31:00.000',\n",
       " 'dropoff_latitude': '40.746769999999998',\n",
       " 'dropoff_longitude': '-73.997450000000001',\n",
       " 'fare_amount': '52',\n",
       " 'imp_surcharge': '0',\n",
       " 'mta_tax': '0.5',\n",
       " 'passenger_count': '1',\n",
       " 'payment_type': 'CSH',\n",
       " 'pickup_datetime': '2014-11-26T21:59:00.000',\n",
       " 'pickup_latitude': '40.64499',\n",
       " 'pickup_longitude': '-73.781149999999997',\n",
       " 'rate_code': '2',\n",
       " 'tip_amount': '0',\n",
       " 'tolls_amount': '5.3300000000000001',\n",
       " 'total_amount': '57.829999999999998',\n",
       " 'trip_distance': '18.379999999999999',\n",
       " 'vendor_id': 'VTS'}"
      ]
     },
     "execution_count": 1,
     "metadata": {},
     "output_type": "execute_result"
    }
   ],
   "source": [
    "import json\n",
    "# First, read the file\n",
    "trips_file = open('trips.json')\n",
    "# Then, convert contents to list of dictionaries \n",
    "trips = json.load(trips_file)\n",
    "trips[0]"
   ]
  },
  {
   "cell_type": "markdown",
   "metadata": {},
   "source": [
    "> Press shift + enter"
   ]
  },
  {
   "cell_type": "markdown",
   "metadata": {},
   "source": [
    "#### Explore the data"
   ]
  },
  {
   "cell_type": "markdown",
   "metadata": {},
   "source": [
    "The next step is to explore the data.  First, let's see how many trips we have."
   ]
  },
  {
   "cell_type": "code",
   "execution_count": 2,
   "metadata": {},
   "outputs": [
    {
     "name": "stdout",
     "output_type": "stream",
     "text": [
      "1000\n"
     ]
    }
   ],
   "source": [
    "print(len(trips))"
   ]
  },
  {
   "cell_type": "markdown",
   "metadata": {},
   "source": [
    "Not bad at all.  Now let's see what each individual trip looks like.  Each trip is a dictionary, so we can see the attributes of each trip with the `keys` function."
   ]
  },
  {
   "cell_type": "code",
   "execution_count": 3,
   "metadata": {
    "scrolled": true
   },
   "outputs": [
    {
     "data": {
      "text/plain": [
       "dict_keys(['dropoff_datetime', 'dropoff_latitude', 'dropoff_longitude', 'fare_amount', 'imp_surcharge', 'mta_tax', 'passenger_count', 'payment_type', 'pickup_datetime', 'pickup_latitude', 'pickup_longitude', 'rate_code', 'tip_amount', 'tolls_amount', 'total_amount', 'trip_distance', 'vendor_id'])"
      ]
     },
     "execution_count": 3,
     "metadata": {},
     "output_type": "execute_result"
    }
   ],
   "source": [
    "trips[0].keys()"
   ]
  },
  {
   "cell_type": "markdown",
   "metadata": {},
   "source": [
    "#### Limit our data"
   ]
  },
  {
   "cell_type": "markdown",
   "metadata": {},
   "source": [
    "Ok, now that we have explored some of our data, let's begin to think through what data is relevant for our task."
   ]
  },
  {
   "cell_type": "markdown",
   "metadata": {
    "collapsed": true
   },
   "source": [
    "Remember that our task is to **use the trip location to predict the length of a trip**.  So let's select the `pickup_latitude`, `pickup_longitude`, and `trip_distance` from each trip.  That will give us the trip location and related `trip_distance` for each trip.  Then based on these **actual** trip distances we can use nearest neighbors to predict an **expected** trip distance for a trip, provided an **actual** location."
   ]
  },
  {
   "cell_type": "markdown",
   "metadata": {},
   "source": [
    "** Add in about trip distance ** "
   ]
  },
  {
   "cell_type": "markdown",
   "metadata": {},
   "source": [
    "Write a function called `parse_trips(trips)` that returns a list of the trips with only the following attributes: \n",
    "* `trip_distance`\n",
    "* `pickup_latitude`\n",
    "* `pickup_longitude`"
   ]
  },
  {
   "cell_type": "code",
   "execution_count": 4,
   "metadata": {},
   "outputs": [],
   "source": [
    "def parse_trips(trips):\n",
    "    a_list = list(map(lambda x: dict(trip_distance=x['trip_distance'],\n",
    "                                 pickup_latitude=x['pickup_latitude'],\n",
    "                                 pickup_longitude=x['pickup_longitude']),trips))\n",
    "    return a_list"
   ]
  },
  {
   "cell_type": "code",
   "execution_count": 5,
   "metadata": {},
   "outputs": [
    {
     "data": {
      "text/plain": [
       "{'trip_distance': '18.379999999999999',\n",
       " 'pickup_latitude': '40.64499',\n",
       " 'pickup_longitude': '-73.781149999999997'}"
      ]
     },
     "execution_count": 5,
     "metadata": {},
     "output_type": "execute_result"
    }
   ],
   "source": [
    "parsed_trips = parse_trips(trips)\n",
    "parsed_trips and parsed_trips[0]\n",
    "\n",
    "# {'pickup_latitude': '40.64499',\n",
    "#  'pickup_longitude': '-73.78115',\n",
    "#  'trip_distance': '18.38'}"
   ]
  },
  {
   "cell_type": "markdown",
   "metadata": {},
   "source": [
    "Now, there's just one change to make.  If you look at one of the trips, all of the values are strings.  Let's change them to be floats."
   ]
  },
  {
   "cell_type": "code",
   "execution_count": 6,
   "metadata": {},
   "outputs": [],
   "source": [
    "def float_values(trips):    \n",
    "    float_list = list(map(lambda x: dict(trip_distance=float(x['trip_distance']),\n",
    "                                         pickup_latitude=float(x['pickup_latitude']),\n",
    "                                         pickup_longitude=float(x['pickup_longitude'])),trips))\n",
    "    return float_list\n"
   ]
  },
  {
   "cell_type": "code",
   "execution_count": 7,
   "metadata": {},
   "outputs": [],
   "source": [
    "cleaned_trips = float_values(parsed_trips)"
   ]
  },
  {
   "cell_type": "code",
   "execution_count": 8,
   "metadata": {},
   "outputs": [
    {
     "data": {
      "text/plain": [
       "{'trip_distance': 18.38,\n",
       " 'pickup_latitude': 40.64499,\n",
       " 'pickup_longitude': -73.78115}"
      ]
     },
     "execution_count": 8,
     "metadata": {},
     "output_type": "execute_result"
    }
   ],
   "source": [
    "cleaned_trips[0]\n",
    "\n",
    "# {'pickup_latitude': 40.64499,\n",
    "#  'pickup_longitude': -73.78115,\n",
    "#  'trip_distance': 18.38}"
   ]
  },
  {
   "cell_type": "markdown",
   "metadata": {},
   "source": [
    "### Exploring the Data"
   ]
  },
  {
   "cell_type": "markdown",
   "metadata": {},
   "source": [
    "Now that we have paired down our data, let's get a sense of our trip data.  We can use the `folium` Python library to plot a map of Manhattan, and our data.  First we must import `folium`, and then use the `Map` function to pass through a `location`, and `zoom_start`.  If a map isn't showing up below, copy and paste the command `pip install -r requirements.txt` into your terminal to install `folium` then try again."
   ]
  },
  {
   "cell_type": "code",
   "execution_count": 9,
   "metadata": {},
   "outputs": [],
   "source": [
    "import folium\n",
    "manhattan_map = folium.Map(location=[40.7589, -73.9851], zoom_start=11)"
   ]
  },
  {
   "cell_type": "code",
   "execution_count": 10,
   "metadata": {
    "scrolled": true
   },
   "outputs": [
    {
     "data": {
      "text/html": [
       "<div style=\"width:100%;\"><div style=\"position:relative;width:100%;height:0;padding-bottom:60%;\"><iframe src=\"data:text/html;charset=utf-8;base64,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\" style=\"position:absolute;width:100%;height:100%;left:0;top:0;border:none !important;\" allowfullscreen webkitallowfullscreen mozallowfullscreen></iframe></div></div>"
      ],
      "text/plain": [
       "<folium.folium.Map at 0x7f47df93dcc0>"
      ]
     },
     "execution_count": 10,
     "metadata": {},
     "output_type": "execute_result"
    }
   ],
   "source": [
    "manhattan_map"
   ]
  },
  {
   "cell_type": "markdown",
   "metadata": {},
   "source": [
    "Ok, now let's see how we could add a dot to mark a specific location.  We'll start with Times Square."
   ]
  },
  {
   "cell_type": "code",
   "execution_count": 11,
   "metadata": {},
   "outputs": [
    {
     "data": {
      "text/plain": [
       "<folium.vector_layers.CircleMarker at 0x7f47b211dd68>"
      ]
     },
     "execution_count": 11,
     "metadata": {},
     "output_type": "execute_result"
    }
   ],
   "source": [
    "marker = folium.CircleMarker(location = [40.7589, -73.9851], radius=10)\n",
    "marker.add_to(manhattan_map)"
   ]
  },
  {
   "cell_type": "markdown",
   "metadata": {},
   "source": [
    "Above, we first create a marker.  Then we add that circle marker to the `manhattan_map` we created earlier. "
   ]
  },
  {
   "cell_type": "code",
   "execution_count": 12,
   "metadata": {
    "scrolled": false
   },
   "outputs": [
    {
     "data": {
      "text/html": [
       "<div style=\"width:100%;\"><div style=\"position:relative;width:100%;height:0;padding-bottom:60%;\"><iframe src=\"data:text/html;charset=utf-8;base64,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\" style=\"position:absolute;width:100%;height:100%;left:0;top:0;border:none !important;\" allowfullscreen webkitallowfullscreen mozallowfullscreen></iframe></div></div>"
      ],
      "text/plain": [
       "<folium.folium.Map at 0x7f47df93dcc0>"
      ]
     },
     "execution_count": 12,
     "metadata": {},
     "output_type": "execute_result"
    }
   ],
   "source": [
    "manhattan_map"
   ]
  },
  {
   "cell_type": "markdown",
   "metadata": {},
   "source": [
    "Do you see that blue dot near Time's Square?  That is our marker.  \n",
    "\n",
    "So now that we can plot one marker on a map, we should have a sense of how we can plot many markers on a map to display our taxi ride data.  We simply plot a map, and then we add a marker for each location of a taxi trip.\n",
    "\n",
    "Now let's write some functions to allow us to plot maps and add markers a little more easily.  "
   ]
  },
  {
   "cell_type": "markdown",
   "metadata": {},
   "source": [
    "#### Writing some map plotting functions"
   ]
  },
  {
   "cell_type": "markdown",
   "metadata": {},
   "source": [
    "As a first step towards this, note that the functions to create both a marker and map each take in a location as two element list, representing the latitude and longitude values.  Take another look:\n",
    "\n",
    "```python\n",
    "marker = folium.CircleMarker(location = [40.7589, -73.9851])\n",
    "manhattan_map = folium.Map(location=[40.7589, -73.9851])\n",
    "```\n",
    "\n",
    "So let's write a function called to create this two element list from a trip.  Write a function called `location` that  takes in a trip as an argument and returns a list where the first element is the latitude and the second is the longitude.  Remember that a location looks like the following:"
   ]
  },
  {
   "cell_type": "code",
   "execution_count": 13,
   "metadata": {},
   "outputs": [
    {
     "data": {
      "text/plain": [
       "{'pickup_latitude': 40.64499,\n",
       " 'pickup_longitude': -73.78115,\n",
       " 'trip_distance': 18.38}"
      ]
     },
     "execution_count": 13,
     "metadata": {},
     "output_type": "execute_result"
    }
   ],
   "source": [
    "first_trip = {'pickup_latitude': 40.64499, 'pickup_longitude': -73.78115,  'trip_distance': 18.38}\n",
    "first_trip"
   ]
  },
  {
   "cell_type": "code",
   "execution_count": 14,
   "metadata": {},
   "outputs": [],
   "source": [
    "def location(trip):\n",
    "    return(list((trip['pickup_latitude'], trip['pickup_longitude'])))"
   ]
  },
  {
   "cell_type": "code",
   "execution_count": 15,
   "metadata": {},
   "outputs": [
    {
     "data": {
      "text/plain": [
       "[40.64499, -73.78115]"
      ]
     },
     "execution_count": 15,
     "metadata": {},
     "output_type": "execute_result"
    }
   ],
   "source": [
    "first_location = location(first_trip) # [40.64499, -73.78115]\n",
    "first_location # [40.64499, -73.78115]"
   ]
  },
  {
   "cell_type": "markdown",
   "metadata": {},
   "source": [
    "Ok, now that we can turn a trip into a location, let's turn a location into a marker.  Write a function called `to_marker` that takes in a location (in the form of a list) as an argument, and returns a folium `circleMarker` for that location.  The radius of the marker should always equal 6."
   ]
  },
  {
   "cell_type": "code",
   "execution_count": 16,
   "metadata": {},
   "outputs": [],
   "source": [
    "def to_marker(location):\n",
    "    marker = folium.CircleMarker(location = location, radius=6)\n",
    "    return marker"
   ]
  },
  {
   "cell_type": "code",
   "execution_count": 17,
   "metadata": {},
   "outputs": [
    {
     "data": {
      "text/plain": [
       "[40.7589, -73.9851]"
      ]
     },
     "execution_count": 17,
     "metadata": {},
     "output_type": "execute_result"
    }
   ],
   "source": [
    "import json\n",
    "times_square_marker = to_marker([40.7589, -73.9851])\n",
    "\n",
    "times_square_marker and times_square_marker.location # [40.7589, -73.9851]\n",
    "#times_square_marker and json.loads(times_square_marker.options)['radius'] # 6"
   ]
  },
  {
   "cell_type": "markdown",
   "metadata": {},
   "source": [
    "Ok, now that we know how to produce a single marker, let's write a function to produce lots.  We can write a function called `markers_from_trips` that takes in a list of trips, and returns a marker object for each trip.  "
   ]
  },
  {
   "cell_type": "code",
   "execution_count": 18,
   "metadata": {},
   "outputs": [],
   "source": [
    "def markers_from_trips(trips):\n",
    "    locations_list = list(map(location,trips))\n",
    "    markers_list = list(map(to_marker,locations_list))\n",
    "    return markers_list\n",
    "    "
   ]
  },
  {
   "cell_type": "code",
   "execution_count": 19,
   "metadata": {},
   "outputs": [],
   "source": [
    "trip_markers = markers_from_trips(cleaned_trips)"
   ]
  },
  {
   "cell_type": "code",
   "execution_count": 20,
   "metadata": {},
   "outputs": [
    {
     "data": {
      "text/plain": [
       "[{'trip_distance': 18.38,\n",
       "  'pickup_latitude': 40.64499,\n",
       "  'pickup_longitude': -73.78115},\n",
       " {'trip_distance': 1.3,\n",
       "  'pickup_latitude': 40.766931,\n",
       "  'pickup_longitude': -73.982098},\n",
       " {'trip_distance': 4.5,\n",
       "  'pickup_latitude': 40.77773,\n",
       "  'pickup_longitude': -73.951902},\n",
       " {'trip_distance': 2.4,\n",
       "  'pickup_latitude': 40.795678,\n",
       "  'pickup_longitude': -73.971049}]"
      ]
     },
     "execution_count": 20,
     "metadata": {},
     "output_type": "execute_result"
    }
   ],
   "source": [
    "cleaned_trips[0:4]"
   ]
  },
  {
   "cell_type": "code",
   "execution_count": 21,
   "metadata": {},
   "outputs": [
    {
     "data": {
      "text/plain": [
       "[[40.64499, -73.78115],\n",
       " [40.766931, -73.982098],\n",
       " [40.77773, -73.951902],\n",
       " [40.795678, -73.971049]]"
      ]
     },
     "execution_count": 21,
     "metadata": {},
     "output_type": "execute_result"
    }
   ],
   "source": [
    "trip_markers and len(trip_markers) # 1000\n",
    "\n",
    "list(map(lambda marker: marker.location, trip_markers[0:4]))\n",
    "# [[40.64499, -73.78115],\n",
    "#  [40.766931, -73.982098],\n",
    "#  [40.77773, -73.951902],\n",
    "#  [40.795678, -73.971049]]"
   ]
  },
  {
   "cell_type": "markdown",
   "metadata": {},
   "source": [
    "Ok, now that we have a function that creates locations, and a function that creates markers, it is time to write a function to plot a map. \n",
    "\n",
    "Write a function called `map_from` that, provided the first argument of a list location and second argument an integer representing the `zoom_start`, returns a `folium` map the corresponding location and `zoom_start` attributes.\n",
    "\n",
    "> Hint: The following is how to write a map with folium:\n",
    "> ```python \n",
    "    folium.Map(location=location, zoom_start=zoom_amount)\n",
    "> ```"
   ]
  },
  {
   "cell_type": "code",
   "execution_count": 22,
   "metadata": {},
   "outputs": [],
   "source": [
    "def map_from(location, zoom_amount):\n",
    "    return folium.Map(location=location, zoom_start=zoom_amount)"
   ]
  },
  {
   "cell_type": "code",
   "execution_count": 23,
   "metadata": {},
   "outputs": [
    {
     "data": {
      "text/plain": [
       "[40.7589, -73.9851]"
      ]
     },
     "execution_count": 23,
     "metadata": {},
     "output_type": "execute_result"
    }
   ],
   "source": [
    "times_square_map = map_from([40.7589, -73.9851], 15)\n",
    "times_square_map and times_square_map.location # [40.7589, -73.9851]\n",
    "#times_square_map and times_square_map.zoom_start # 15"
   ]
  },
  {
   "cell_type": "code",
   "execution_count": 24,
   "metadata": {
    "scrolled": true
   },
   "outputs": [
    {
     "data": {
      "text/html": [
       "<div style=\"width:100%;\"><div style=\"position:relative;width:100%;height:0;padding-bottom:60%;\"><iframe src=\"data:text/html;charset=utf-8;base64,PCFET0NUWVBFIGh0bWw+CjxoZWFkPiAgICAKICAgIDxtZXRhIGh0dHAtZXF1aXY9ImNvbnRlbnQtdHlwZSIgY29udGVudD0idGV4dC9odG1sOyBjaGFyc2V0PVVURi04IiAvPgogICAgCiAgICAgICAgPHNjcmlwdD4KICAgICAgICAgICAgTF9OT19UT1VDSCA9IGZhbHNlOwogICAgICAgICAgICBMX0RJU0FCTEVfM0QgPSBmYWxzZTsKICAgICAgICA8L3NjcmlwdD4KICAgIAogICAgPHNjcmlwdCBzcmM9Imh0dHBzOi8vY2RuLmpzZGVsaXZyLm5ldC9ucG0vbGVhZmxldEAxLjUuMS9kaXN0L2xlYWZsZXQuanMiPjwvc2NyaXB0PgogICAgPHNjcmlwdCBzcmM9Imh0dHBzOi8vY29kZS5qcXVlcnkuY29tL2pxdWVyeS0xLjEyLjQubWluLmpzIj48L3NjcmlwdD4KICAgIDxzY3JpcHQgc3JjPSJodHRwczovL21heGNkbi5ib290c3RyYXBjZG4uY29tL2Jvb3RzdHJhcC8zLjIuMC9qcy9ib290c3RyYXAubWluLmpzIj48L3NjcmlwdD4KICAgIDxzY3JpcHQgc3JjPSJodHRwczovL2NkbmpzLmNsb3VkZmxhcmUuY29tL2FqYXgvbGlicy9MZWFmbGV0LmF3ZXNvbWUtbWFya2Vycy8yLjAuMi9sZWFmbGV0LmF3ZXNvbWUtbWFya2Vycy5qcyI+PC9zY3JpcHQ+CiAgICA8bGluayByZWw9InN0eWxlc2hlZXQiIGhyZWY9Imh0dHBzOi8vY2RuLmpzZGVsaXZyLm5ldC9ucG0vbGVhZmxldEAxLjUuMS9kaXN0L2xlYWZsZXQuY3NzIi8+CiAgICA8bGluayByZWw9InN0eWxlc2hlZXQiIGhyZWY9Imh0dHBzOi8vbWF4Y2RuLmJvb3RzdHJhcGNkbi5jb20vYm9vdHN0cmFwLzMuMi4wL2Nzcy9ib290c3RyYXAubWluLmNzcyIvPgogICAgPGxpbmsgcmVsPSJzdHlsZXNoZWV0IiBocmVmPSJodHRwczovL21heGNkbi5ib290c3RyYXBjZG4uY29tL2Jvb3RzdHJhcC8zLjIuMC9jc3MvYm9vdHN0cmFwLXRoZW1lLm1pbi5jc3MiLz4KICAgIDxsaW5rIHJlbD0ic3R5bGVzaGVldCIgaHJlZj0iaHR0cHM6Ly9tYXhjZG4uYm9vdHN0cmFwY2RuLmNvbS9mb250LWF3ZXNvbWUvNC42LjMvY3NzL2ZvbnQtYXdlc29tZS5taW4uY3NzIi8+CiAgICA8bGluayByZWw9InN0eWxlc2hlZXQiIGhyZWY9Imh0dHBzOi8vY2RuanMuY2xvdWRmbGFyZS5jb20vYWpheC9saWJzL0xlYWZsZXQuYXdlc29tZS1tYXJrZXJzLzIuMC4yL2xlYWZsZXQuYXdlc29tZS1tYXJrZXJzLmNzcyIvPgogICAgPGxpbmsgcmVsPSJzdHlsZXNoZWV0IiBocmVmPSJodHRwczovL3Jhd2Nkbi5naXRoYWNrLmNvbS9weXRob24tdmlzdWFsaXphdGlvbi9mb2xpdW0vbWFzdGVyL2ZvbGl1bS90ZW1wbGF0ZXMvbGVhZmxldC5hd2Vzb21lLnJvdGF0ZS5jc3MiLz4KICAgIDxzdHlsZT5odG1sLCBib2R5IHt3aWR0aDogMTAwJTtoZWlnaHQ6IDEwMCU7bWFyZ2luOiAwO3BhZGRpbmc6IDA7fTwvc3R5bGU+CiAgICA8c3R5bGU+I21hcCB7cG9zaXRpb246YWJzb2x1dGU7dG9wOjA7Ym90dG9tOjA7cmlnaHQ6MDtsZWZ0OjA7fTwvc3R5bGU+CiAgICAKICAgICAgICAgICAgPG1ldGEgbmFtZT0idmlld3BvcnQiIGNvbnRlbnQ9IndpZHRoPWRldmljZS13aWR0aCwKICAgICAgICAgICAgICAgIGluaXRpYWwtc2NhbGU9MS4wLCBtYXhpbXVtLXNjYWxlPTEuMCwgdXNlci1zY2FsYWJsZT1ubyIgLz4KICAgICAgICAgICAgPHN0eWxlPgogICAgICAgICAgICAgICAgI21hcF8zMDgxOTczOWRlMTU0ZjJkYTNhNGM1ZjFlNmVkNWRmNCB7CiAgICAgICAgICAgICAgICAgICAgcG9zaXRpb246IHJlbGF0aXZlOwogICAgICAgICAgICAgICAgICAgIHdpZHRoOiAxMDAuMCU7CiAgICAgICAgICAgICAgICAgICAgaGVpZ2h0OiAxMDAuMCU7CiAgICAgICAgICAgICAgICAgICAgbGVmdDogMC4wJTsKICAgICAgICAgICAgICAgICAgICB0b3A6IDAuMCU7CiAgICAgICAgICAgICAgICB9CiAgICAgICAgICAgIDwvc3R5bGU+CiAgICAgICAgCjwvaGVhZD4KPGJvZHk+ICAgIAogICAgCiAgICAgICAgICAgIDxkaXYgY2xhc3M9ImZvbGl1bS1tYXAiIGlkPSJtYXBfMzA4MTk3MzlkZTE1NGYyZGEzYTRjNWYxZTZlZDVkZjQiID48L2Rpdj4KICAgICAgICAKPC9ib2R5Pgo8c2NyaXB0PiAgICAKICAgIAogICAgICAgICAgICB2YXIgbWFwXzMwODE5NzM5ZGUxNTRmMmRhM2E0YzVmMWU2ZWQ1ZGY0ID0gTC5tYXAoCiAgICAgICAgICAgICAgICAibWFwXzMwODE5NzM5ZGUxNTRmMmRhM2E0YzVmMWU2ZWQ1ZGY0IiwKICAgICAgICAgICAgICAgIHsKICAgICAgICAgICAgICAgICAgICBjZW50ZXI6IFs0MC43NTg5LCAtNzMuOTg1MV0sCiAgICAgICAgICAgICAgICAgICAgY3JzOiBMLkNSUy5FUFNHMzg1NywKICAgICAgICAgICAgICAgICAgICB6b29tOiAxNSwKICAgICAgICAgICAgICAgICAgICB6b29tQ29udHJvbDogdHJ1ZSwKICAgICAgICAgICAgICAgICAgICBwcmVmZXJDYW52YXM6IGZhbHNlLAogICAgICAgICAgICAgICAgfQogICAgICAgICAgICApOwoKICAgICAgICAgICAgCgogICAgICAgIAogICAgCiAgICAgICAgICAgIHZhciB0aWxlX2xheWVyXzg3ZWRmOTk1NzQyYTQ1MTZhZmZlMzg5MmI0YzEwODQ2ID0gTC50aWxlTGF5ZXIoCiAgICAgICAgICAgICAgICAiaHR0cHM6Ly97c30udGlsZS5vcGVuc3RyZWV0bWFwLm9yZy97en0ve3h9L3t5fS5wbmciLAogICAgICAgICAgICAgICAgeyJhdHRyaWJ1dGlvbiI6ICJEYXRhIGJ5IFx1MDAyNmNvcHk7IFx1MDAzY2EgaHJlZj1cImh0dHA6Ly9vcGVuc3RyZWV0bWFwLm9yZ1wiXHUwMDNlT3BlblN0cmVldE1hcFx1MDAzYy9hXHUwMDNlLCB1bmRlciBcdTAwM2NhIGhyZWY9XCJodHRwOi8vd3d3Lm9wZW5zdHJlZXRtYXAub3JnL2NvcHlyaWdodFwiXHUwMDNlT0RiTFx1MDAzYy9hXHUwMDNlLiIsICJkZXRlY3RSZXRpbmEiOiBmYWxzZSwgIm1heE5hdGl2ZVpvb20iOiAxOCwgIm1heFpvb20iOiAxOCwgIm1pblpvb20iOiAwLCAibm9XcmFwIjogZmFsc2UsICJvcGFjaXR5IjogMSwgInN1YmRvbWFpbnMiOiAiYWJjIiwgInRtcyI6IGZhbHNlfQogICAgICAgICAgICApLmFkZFRvKG1hcF8zMDgxOTczOWRlMTU0ZjJkYTNhNGM1ZjFlNmVkNWRmNCk7CiAgICAgICAgCiAgICAKICAgICAgICAgICAgdmFyIGNpcmNsZV9tYXJrZXJfNjNmZjE2NzYwOTJkNGRhNmJmOGM4ZWE0NGUwZTRkM2MgPSBMLmNpcmNsZU1hcmtlcigKICAgICAgICAgICAgICAgIFs0MC43NTg5LCAtNzMuOTg1MV0sCiAgICAgICAgICAgICAgICB7ImJ1YmJsaW5nTW91c2VFdmVudHMiOiB0cnVlLCAiY29sb3IiOiAiIzMzODhmZiIsICJkYXNoQXJyYXkiOiBudWxsLCAiZGFzaE9mZnNldCI6IG51bGwsICJmaWxsIjogZmFsc2UsICJmaWxsQ29sb3IiOiAiIzMzODhmZiIsICJmaWxsT3BhY2l0eSI6IDAuMiwgImZpbGxSdWxlIjogImV2ZW5vZGQiLCAibGluZUNhcCI6ICJyb3VuZCIsICJsaW5lSm9pbiI6ICJyb3VuZCIsICJvcGFjaXR5IjogMS4wLCAicmFkaXVzIjogNiwgInN0cm9rZSI6IHRydWUsICJ3ZWlnaHQiOiAzfQogICAgICAgICAgICApLmFkZFRvKG1hcF8zMDgxOTczOWRlMTU0ZjJkYTNhNGM1ZjFlNmVkNWRmNCk7CiAgICAgICAgCjwvc2NyaXB0Pg==\" style=\"position:absolute;width:100%;height:100%;left:0;top:0;border:none !important;\" allowfullscreen webkitallowfullscreen mozallowfullscreen></iframe></div></div>"
      ],
      "text/plain": [
       "<folium.folium.Map at 0x7f47b208b240>"
      ]
     },
     "execution_count": 24,
     "metadata": {},
     "output_type": "execute_result"
    }
   ],
   "source": [
    "times_square_marker and times_square_marker.add_to(times_square_map)\n",
    "times_square_map"
   ]
  },
  {
   "cell_type": "markdown",
   "metadata": {},
   "source": [
    "Now that we have a marker and a map, now let's write a function that adds a lot of markers to a map.  This function should add each marker in the list to the map object then return the updated map object."
   ]
  },
  {
   "cell_type": "code",
   "execution_count": 38,
   "metadata": {},
   "outputs": [],
   "source": [
    "manhattan_map = map_from([40.7589, -73.9851], 13)"
   ]
  },
  {
   "cell_type": "code",
   "execution_count": 42,
   "metadata": {},
   "outputs": [],
   "source": [
    "def add_markers(markers, map_obj):\n",
    "    \n",
    "    return (list(map(lambda x: x.add_to(map_obj),markers)))"
   ]
  },
  {
   "cell_type": "code",
   "execution_count": 43,
   "metadata": {
    "scrolled": false
   },
   "outputs": [],
   "source": [
    "map_with_markers = add_markers(trip_markers, manhattan_map)"
   ]
  },
  {
   "cell_type": "code",
   "execution_count": 47,
   "metadata": {},
   "outputs": [
    {
     "data": {
      "text/plain": [
       "[<folium.vector_layers.CircleMarker at 0x7f47b211d048>,\n",
       " <folium.vector_layers.CircleMarker at 0x7f47b211d208>,\n",
       " <folium.vector_layers.CircleMarker at 0x7f47b211de80>,\n",
       " <folium.vector_layers.CircleMarker at 0x7f47b211dcc0>,\n",
       " <folium.vector_layers.CircleMarker at 0x7f47b211dcf8>,\n",
       " <folium.vector_layers.CircleMarker at 0x7f47b211d4e0>,\n",
       " <folium.vector_layers.CircleMarker at 0x7f47b211dac8>,\n",
       " <folium.vector_layers.CircleMarker at 0x7f47b211d6a0>,\n",
       " <folium.vector_layers.CircleMarker at 0x7f47b211d2b0>,\n",
       " <folium.vector_layers.CircleMarker at 0x7f47b211da90>,\n",
       " <folium.vector_layers.CircleMarker at 0x7f47b21223c8>,\n",
       " <folium.vector_layers.CircleMarker at 0x7f47b2122198>,\n",
       " <folium.vector_layers.CircleMarker at 0x7f47b21228d0>,\n",
       " <folium.vector_layers.CircleMarker at 0x7f47b2122208>,\n",
       " <folium.vector_layers.CircleMarker at 0x7f47b21225c0>,\n",
       " <folium.vector_layers.CircleMarker at 0x7f47b21224a8>,\n",
       " <folium.vector_layers.CircleMarker at 0x7f47b21226a0>,\n",
       " <folium.vector_layers.CircleMarker at 0x7f47b21226d8>,\n",
       " <folium.vector_layers.CircleMarker at 0x7f47b2122160>,\n",
       " <folium.vector_layers.CircleMarker at 0x7f47b21221d0>,\n",
       " <folium.vector_layers.CircleMarker at 0x7f47b2122710>,\n",
       " <folium.vector_layers.CircleMarker at 0x7f47b2122668>,\n",
       " <folium.vector_layers.CircleMarker at 0x7f47b2122518>,\n",
       " <folium.vector_layers.CircleMarker at 0x7f47b2122390>,\n",
       " <folium.vector_layers.CircleMarker at 0x7f47b2122630>,\n",
       " <folium.vector_layers.CircleMarker at 0x7f47b21225f8>,\n",
       " <folium.vector_layers.CircleMarker at 0x7f47b2122860>,\n",
       " <folium.vector_layers.CircleMarker at 0x7f47b2122828>,\n",
       " <folium.vector_layers.CircleMarker at 0x7f47b21227f0>,\n",
       " <folium.vector_layers.CircleMarker at 0x7f47b21227b8>,\n",
       " <folium.vector_layers.CircleMarker at 0x7f47b2122748>,\n",
       " <folium.vector_layers.CircleMarker at 0x7f47b2122780>,\n",
       " <folium.vector_layers.CircleMarker at 0x7f47b2122a20>,\n",
       " <folium.vector_layers.CircleMarker at 0x7f47b2122898>,\n",
       " <folium.vector_layers.CircleMarker at 0x7f47b2122cc0>,\n",
       " <folium.vector_layers.CircleMarker at 0x7f47b2122b70>,\n",
       " <folium.vector_layers.CircleMarker at 0x7f47b2122c18>,\n",
       " <folium.vector_layers.CircleMarker at 0x7f47b2122d68>,\n",
       " <folium.vector_layers.CircleMarker at 0x7f47b2122be0>,\n",
       " <folium.vector_layers.CircleMarker at 0x7f47b2122b38>,\n",
       " <folium.vector_layers.CircleMarker at 0x7f47b21229b0>,\n",
       " <folium.vector_layers.CircleMarker at 0x7f47b2122908>,\n",
       " <folium.vector_layers.CircleMarker at 0x7f47b2122940>,\n",
       " <folium.vector_layers.CircleMarker at 0x7f47b2122978>,\n",
       " <folium.vector_layers.CircleMarker at 0x7f47b21229e8>,\n",
       " <folium.vector_layers.CircleMarker at 0x7f47b2122ac8>,\n",
       " <folium.vector_layers.CircleMarker at 0x7f47b2122a58>,\n",
       " <folium.vector_layers.CircleMarker at 0x7f47b2122cf8>,\n",
       " <folium.vector_layers.CircleMarker at 0x7f47b2122b00>,\n",
       " <folium.vector_layers.CircleMarker at 0x7f47b2122da0>,\n",
       " <folium.vector_layers.CircleMarker at 0x7f47b2122c50>,\n",
       " <folium.vector_layers.CircleMarker at 0x7f47b2122ba8>,\n",
       " <folium.vector_layers.CircleMarker at 0x7f47b2122c88>,\n",
       " <folium.vector_layers.CircleMarker at 0x7f47b2122d30>,\n",
       " <folium.vector_layers.CircleMarker at 0x7f47b2122dd8>,\n",
       " <folium.vector_layers.CircleMarker at 0x7f47b2122e10>,\n",
       " <folium.vector_layers.CircleMarker at 0x7f47b2122a90>,\n",
       " <folium.vector_layers.CircleMarker at 0x7f47b2122e48>,\n",
       " <folium.vector_layers.CircleMarker at 0x7f47b2122e80>,\n",
       " <folium.vector_layers.CircleMarker at 0x7f47b2122eb8>,\n",
       " <folium.vector_layers.CircleMarker at 0x7f47b2122ef0>,\n",
       " <folium.vector_layers.CircleMarker at 0x7f47b2122f28>,\n",
       " <folium.vector_layers.CircleMarker at 0x7f47b2122f60>,\n",
       " <folium.vector_layers.CircleMarker at 0x7f47b2122f98>,\n",
       " <folium.vector_layers.CircleMarker at 0x7f47b2122fd0>,\n",
       " <folium.vector_layers.CircleMarker at 0x7f47b2122048>,\n",
       " <folium.vector_layers.CircleMarker at 0x7f47b20d6048>,\n",
       " <folium.vector_layers.CircleMarker at 0x7f47b20d60b8>,\n",
       " <folium.vector_layers.CircleMarker at 0x7f47b20d60f0>,\n",
       " <folium.vector_layers.CircleMarker at 0x7f47b20d6128>,\n",
       " <folium.vector_layers.CircleMarker at 0x7f47b20d6160>,\n",
       " <folium.vector_layers.CircleMarker at 0x7f47b20d6198>,\n",
       " <folium.vector_layers.CircleMarker at 0x7f47b20d61d0>,\n",
       " <folium.vector_layers.CircleMarker at 0x7f47b20d6208>,\n",
       " <folium.vector_layers.CircleMarker at 0x7f47b20d6240>,\n",
       " <folium.vector_layers.CircleMarker at 0x7f47b20d6278>,\n",
       " <folium.vector_layers.CircleMarker at 0x7f47b20d62b0>,\n",
       " <folium.vector_layers.CircleMarker at 0x7f47b20d62e8>,\n",
       " <folium.vector_layers.CircleMarker at 0x7f47b20d6320>,\n",
       " <folium.vector_layers.CircleMarker at 0x7f47b20d6358>,\n",
       " <folium.vector_layers.CircleMarker at 0x7f47b20d6390>,\n",
       " <folium.vector_layers.CircleMarker at 0x7f47b20d63c8>,\n",
       " <folium.vector_layers.CircleMarker at 0x7f47b20d6400>,\n",
       " <folium.vector_layers.CircleMarker at 0x7f47b20d6438>,\n",
       " <folium.vector_layers.CircleMarker at 0x7f47b20d6470>,\n",
       " <folium.vector_layers.CircleMarker at 0x7f47b20d64a8>,\n",
       " <folium.vector_layers.CircleMarker at 0x7f47b20d64e0>,\n",
       " <folium.vector_layers.CircleMarker at 0x7f47b20d6518>,\n",
       " <folium.vector_layers.CircleMarker at 0x7f47b20d6550>,\n",
       " <folium.vector_layers.CircleMarker at 0x7f47b20d6588>,\n",
       " <folium.vector_layers.CircleMarker at 0x7f47b20d65c0>,\n",
       " <folium.vector_layers.CircleMarker at 0x7f47b20d65f8>,\n",
       " <folium.vector_layers.CircleMarker at 0x7f47b20d6630>,\n",
       " <folium.vector_layers.CircleMarker at 0x7f47b20d6668>,\n",
       " <folium.vector_layers.CircleMarker at 0x7f47b20d66a0>,\n",
       " <folium.vector_layers.CircleMarker at 0x7f47b20d66d8>,\n",
       " <folium.vector_layers.CircleMarker at 0x7f47b20d6710>,\n",
       " <folium.vector_layers.CircleMarker at 0x7f47b20d6748>,\n",
       " <folium.vector_layers.CircleMarker at 0x7f47b20d6780>,\n",
       " <folium.vector_layers.CircleMarker at 0x7f47b20d67b8>,\n",
       " <folium.vector_layers.CircleMarker at 0x7f47b20d67f0>,\n",
       " <folium.vector_layers.CircleMarker at 0x7f47b20d6828>,\n",
       " <folium.vector_layers.CircleMarker at 0x7f47b20d6860>,\n",
       " <folium.vector_layers.CircleMarker at 0x7f47b20d6898>,\n",
       " <folium.vector_layers.CircleMarker at 0x7f47b20d68d0>,\n",
       " <folium.vector_layers.CircleMarker at 0x7f47b20d6908>,\n",
       " <folium.vector_layers.CircleMarker at 0x7f47b20d6940>,\n",
       " <folium.vector_layers.CircleMarker at 0x7f47b20d6978>,\n",
       " <folium.vector_layers.CircleMarker at 0x7f47b20d69b0>,\n",
       " <folium.vector_layers.CircleMarker at 0x7f47b20d69e8>,\n",
       " <folium.vector_layers.CircleMarker at 0x7f47b20d6a20>,\n",
       " <folium.vector_layers.CircleMarker at 0x7f47b20d6a58>,\n",
       " <folium.vector_layers.CircleMarker at 0x7f47b20d6a90>,\n",
       " <folium.vector_layers.CircleMarker at 0x7f47b20d6ac8>,\n",
       " <folium.vector_layers.CircleMarker at 0x7f47b20d6b00>,\n",
       " <folium.vector_layers.CircleMarker at 0x7f47b20d6b38>,\n",
       " <folium.vector_layers.CircleMarker at 0x7f47b20d6b70>,\n",
       " <folium.vector_layers.CircleMarker at 0x7f47b20d6ba8>,\n",
       " <folium.vector_layers.CircleMarker at 0x7f47b20d6be0>,\n",
       " <folium.vector_layers.CircleMarker at 0x7f47b20d6c18>,\n",
       " <folium.vector_layers.CircleMarker at 0x7f47b20d6c50>,\n",
       " <folium.vector_layers.CircleMarker at 0x7f47b20d6c88>,\n",
       " <folium.vector_layers.CircleMarker at 0x7f47b20d6cc0>,\n",
       " <folium.vector_layers.CircleMarker at 0x7f47b20d6cf8>,\n",
       " <folium.vector_layers.CircleMarker at 0x7f47b20d6d30>,\n",
       " <folium.vector_layers.CircleMarker at 0x7f47b20d6d68>,\n",
       " <folium.vector_layers.CircleMarker at 0x7f47b20d6da0>,\n",
       " <folium.vector_layers.CircleMarker at 0x7f47b20d6dd8>,\n",
       " <folium.vector_layers.CircleMarker at 0x7f47b20d6e10>,\n",
       " <folium.vector_layers.CircleMarker at 0x7f47b20d6e48>,\n",
       " <folium.vector_layers.CircleMarker at 0x7f47b20d6e80>,\n",
       " <folium.vector_layers.CircleMarker at 0x7f47b20d6eb8>,\n",
       " <folium.vector_layers.CircleMarker at 0x7f47b20d6ef0>,\n",
       " <folium.vector_layers.CircleMarker at 0x7f47b20d6f28>,\n",
       " <folium.vector_layers.CircleMarker at 0x7f47b20d6f60>,\n",
       " <folium.vector_layers.CircleMarker at 0x7f47b20d6f98>,\n",
       " <folium.vector_layers.CircleMarker at 0x7f47b20d6fd0>,\n",
       " <folium.vector_layers.CircleMarker at 0x7f47b20d6080>,\n",
       " <folium.vector_layers.CircleMarker at 0x7f47b20e4080>,\n",
       " <folium.vector_layers.CircleMarker at 0x7f47b20e40b8>,\n",
       " <folium.vector_layers.CircleMarker at 0x7f47b20e40f0>,\n",
       " <folium.vector_layers.CircleMarker at 0x7f47b20e4128>,\n",
       " <folium.vector_layers.CircleMarker at 0x7f47b20e4160>,\n",
       " <folium.vector_layers.CircleMarker at 0x7f47b20e4198>,\n",
       " <folium.vector_layers.CircleMarker at 0x7f47b20e41d0>,\n",
       " <folium.vector_layers.CircleMarker at 0x7f47b20e4208>,\n",
       " <folium.vector_layers.CircleMarker at 0x7f47b20e4240>,\n",
       " <folium.vector_layers.CircleMarker at 0x7f47b20e4278>,\n",
       " <folium.vector_layers.CircleMarker at 0x7f47b20e42b0>,\n",
       " <folium.vector_layers.CircleMarker at 0x7f47b20e42e8>,\n",
       " <folium.vector_layers.CircleMarker at 0x7f47b20e4320>,\n",
       " <folium.vector_layers.CircleMarker at 0x7f47b20e4358>,\n",
       " <folium.vector_layers.CircleMarker at 0x7f47b20e4390>,\n",
       " <folium.vector_layers.CircleMarker at 0x7f47b20e43c8>,\n",
       " <folium.vector_layers.CircleMarker at 0x7f47b20e4400>,\n",
       " <folium.vector_layers.CircleMarker at 0x7f47b20e4438>,\n",
       " <folium.vector_layers.CircleMarker at 0x7f47b20e4470>,\n",
       " <folium.vector_layers.CircleMarker at 0x7f47b20e44a8>,\n",
       " <folium.vector_layers.CircleMarker at 0x7f47b20e44e0>,\n",
       " <folium.vector_layers.CircleMarker at 0x7f47b20e4518>,\n",
       " <folium.vector_layers.CircleMarker at 0x7f47b20e4550>,\n",
       " <folium.vector_layers.CircleMarker at 0x7f47b20e4588>,\n",
       " <folium.vector_layers.CircleMarker at 0x7f47b20e45c0>,\n",
       " <folium.vector_layers.CircleMarker at 0x7f47b20e45f8>,\n",
       " <folium.vector_layers.CircleMarker at 0x7f47b20e4630>,\n",
       " <folium.vector_layers.CircleMarker at 0x7f47b20e4668>,\n",
       " <folium.vector_layers.CircleMarker at 0x7f47b20e46a0>,\n",
       " <folium.vector_layers.CircleMarker at 0x7f47b20e46d8>,\n",
       " <folium.vector_layers.CircleMarker at 0x7f47b20e4710>,\n",
       " <folium.vector_layers.CircleMarker at 0x7f47b20e4748>,\n",
       " <folium.vector_layers.CircleMarker at 0x7f47b20e4780>,\n",
       " <folium.vector_layers.CircleMarker at 0x7f47b20e47b8>,\n",
       " <folium.vector_layers.CircleMarker at 0x7f47b20e47f0>,\n",
       " <folium.vector_layers.CircleMarker at 0x7f47b20e4828>,\n",
       " <folium.vector_layers.CircleMarker at 0x7f47b20e4860>,\n",
       " <folium.vector_layers.CircleMarker at 0x7f47b20e4898>,\n",
       " <folium.vector_layers.CircleMarker at 0x7f47b20e48d0>,\n",
       " <folium.vector_layers.CircleMarker at 0x7f47b20e4908>,\n",
       " <folium.vector_layers.CircleMarker at 0x7f47b20e4940>,\n",
       " <folium.vector_layers.CircleMarker at 0x7f47b20e4978>,\n",
       " <folium.vector_layers.CircleMarker at 0x7f47b20e49b0>,\n",
       " <folium.vector_layers.CircleMarker at 0x7f47b20e49e8>,\n",
       " <folium.vector_layers.CircleMarker at 0x7f47b20e4a20>,\n",
       " <folium.vector_layers.CircleMarker at 0x7f47b20e4a58>,\n",
       " <folium.vector_layers.CircleMarker at 0x7f47b20e4a90>,\n",
       " <folium.vector_layers.CircleMarker at 0x7f47b20e4ac8>,\n",
       " <folium.vector_layers.CircleMarker at 0x7f47b20e4b00>,\n",
       " <folium.vector_layers.CircleMarker at 0x7f47b20e4b38>,\n",
       " <folium.vector_layers.CircleMarker at 0x7f47b20e4b70>,\n",
       " <folium.vector_layers.CircleMarker at 0x7f47b20e4ba8>,\n",
       " <folium.vector_layers.CircleMarker at 0x7f47b20e4be0>,\n",
       " <folium.vector_layers.CircleMarker at 0x7f47b20e4c18>,\n",
       " <folium.vector_layers.CircleMarker at 0x7f47b20e4c50>,\n",
       " <folium.vector_layers.CircleMarker at 0x7f47b20e4c88>,\n",
       " <folium.vector_layers.CircleMarker at 0x7f47b20e4cc0>,\n",
       " <folium.vector_layers.CircleMarker at 0x7f47b20e4cf8>,\n",
       " <folium.vector_layers.CircleMarker at 0x7f47b20e4d30>,\n",
       " <folium.vector_layers.CircleMarker at 0x7f47b20e4d68>,\n",
       " <folium.vector_layers.CircleMarker at 0x7f47b20e4da0>,\n",
       " <folium.vector_layers.CircleMarker at 0x7f47b20e4dd8>,\n",
       " <folium.vector_layers.CircleMarker at 0x7f47b20e4e10>,\n",
       " <folium.vector_layers.CircleMarker at 0x7f47b20e4e48>,\n",
       " <folium.vector_layers.CircleMarker at 0x7f47b20e4e80>,\n",
       " <folium.vector_layers.CircleMarker at 0x7f47b20e4eb8>,\n",
       " <folium.vector_layers.CircleMarker at 0x7f47b20e4ef0>,\n",
       " <folium.vector_layers.CircleMarker at 0x7f47b20e4f28>,\n",
       " <folium.vector_layers.CircleMarker at 0x7f47b20e4f60>,\n",
       " <folium.vector_layers.CircleMarker at 0x7f47b20e4f98>,\n",
       " <folium.vector_layers.CircleMarker at 0x7f47b20e4fd0>,\n",
       " <folium.vector_layers.CircleMarker at 0x7f47b20e4048>,\n",
       " <folium.vector_layers.CircleMarker at 0x7f47b20f5080>,\n",
       " <folium.vector_layers.CircleMarker at 0x7f47b20f50b8>,\n",
       " <folium.vector_layers.CircleMarker at 0x7f47b20f50f0>,\n",
       " <folium.vector_layers.CircleMarker at 0x7f47b20f5128>,\n",
       " <folium.vector_layers.CircleMarker at 0x7f47b20f5160>,\n",
       " <folium.vector_layers.CircleMarker at 0x7f47b20f5198>,\n",
       " <folium.vector_layers.CircleMarker at 0x7f47b20f51d0>,\n",
       " <folium.vector_layers.CircleMarker at 0x7f47b20f5208>,\n",
       " <folium.vector_layers.CircleMarker at 0x7f47b20f5240>,\n",
       " <folium.vector_layers.CircleMarker at 0x7f47b20f5278>,\n",
       " <folium.vector_layers.CircleMarker at 0x7f47b20f52b0>,\n",
       " <folium.vector_layers.CircleMarker at 0x7f47b20f52e8>,\n",
       " <folium.vector_layers.CircleMarker at 0x7f47b20f5320>,\n",
       " <folium.vector_layers.CircleMarker at 0x7f47b20f5358>,\n",
       " <folium.vector_layers.CircleMarker at 0x7f47b20f5390>,\n",
       " <folium.vector_layers.CircleMarker at 0x7f47b20f53c8>,\n",
       " <folium.vector_layers.CircleMarker at 0x7f47b20f5400>,\n",
       " <folium.vector_layers.CircleMarker at 0x7f47b20f5438>,\n",
       " <folium.vector_layers.CircleMarker at 0x7f47b20f5470>,\n",
       " <folium.vector_layers.CircleMarker at 0x7f47b20f54a8>,\n",
       " <folium.vector_layers.CircleMarker at 0x7f47b20f54e0>,\n",
       " <folium.vector_layers.CircleMarker at 0x7f47b20f5518>,\n",
       " <folium.vector_layers.CircleMarker at 0x7f47b20f5550>,\n",
       " <folium.vector_layers.CircleMarker at 0x7f47b20f5588>,\n",
       " <folium.vector_layers.CircleMarker at 0x7f47b20f55c0>,\n",
       " <folium.vector_layers.CircleMarker at 0x7f47b20f55f8>,\n",
       " <folium.vector_layers.CircleMarker at 0x7f47b20f5630>,\n",
       " <folium.vector_layers.CircleMarker at 0x7f47b20f5668>,\n",
       " <folium.vector_layers.CircleMarker at 0x7f47b20f56a0>,\n",
       " <folium.vector_layers.CircleMarker at 0x7f47b20f56d8>,\n",
       " <folium.vector_layers.CircleMarker at 0x7f47b20f5710>,\n",
       " <folium.vector_layers.CircleMarker at 0x7f47b20f5748>,\n",
       " <folium.vector_layers.CircleMarker at 0x7f47b20f5780>,\n",
       " <folium.vector_layers.CircleMarker at 0x7f47b20f57b8>,\n",
       " <folium.vector_layers.CircleMarker at 0x7f47b20f57f0>,\n",
       " <folium.vector_layers.CircleMarker at 0x7f47b20f5828>,\n",
       " <folium.vector_layers.CircleMarker at 0x7f47b20f5860>,\n",
       " <folium.vector_layers.CircleMarker at 0x7f47b20f5898>,\n",
       " <folium.vector_layers.CircleMarker at 0x7f47b20f58d0>,\n",
       " <folium.vector_layers.CircleMarker at 0x7f47b20f5908>,\n",
       " <folium.vector_layers.CircleMarker at 0x7f47b20f5940>,\n",
       " <folium.vector_layers.CircleMarker at 0x7f47b20f5978>,\n",
       " <folium.vector_layers.CircleMarker at 0x7f47b20f59b0>,\n",
       " <folium.vector_layers.CircleMarker at 0x7f47b20f59e8>,\n",
       " <folium.vector_layers.CircleMarker at 0x7f47b20f5a20>,\n",
       " <folium.vector_layers.CircleMarker at 0x7f47b20f5a58>,\n",
       " <folium.vector_layers.CircleMarker at 0x7f47b20f5a90>,\n",
       " <folium.vector_layers.CircleMarker at 0x7f47b20f5ac8>,\n",
       " <folium.vector_layers.CircleMarker at 0x7f47b20f5b00>,\n",
       " <folium.vector_layers.CircleMarker at 0x7f47b20f5b38>,\n",
       " <folium.vector_layers.CircleMarker at 0x7f47b20f5b70>,\n",
       " <folium.vector_layers.CircleMarker at 0x7f47b20f5ba8>,\n",
       " <folium.vector_layers.CircleMarker at 0x7f47b20f5be0>,\n",
       " <folium.vector_layers.CircleMarker at 0x7f47b20f5c18>,\n",
       " <folium.vector_layers.CircleMarker at 0x7f47b20f5c50>,\n",
       " <folium.vector_layers.CircleMarker at 0x7f47b20f5c88>,\n",
       " <folium.vector_layers.CircleMarker at 0x7f47b20f5cc0>,\n",
       " <folium.vector_layers.CircleMarker at 0x7f47b20f5cf8>,\n",
       " <folium.vector_layers.CircleMarker at 0x7f47b20f5d30>,\n",
       " <folium.vector_layers.CircleMarker at 0x7f47b20f5d68>,\n",
       " <folium.vector_layers.CircleMarker at 0x7f47b20f5da0>,\n",
       " <folium.vector_layers.CircleMarker at 0x7f47b20f5dd8>,\n",
       " <folium.vector_layers.CircleMarker at 0x7f47b20f5e10>,\n",
       " <folium.vector_layers.CircleMarker at 0x7f47b20f5e48>,\n",
       " <folium.vector_layers.CircleMarker at 0x7f47b20f5e80>,\n",
       " <folium.vector_layers.CircleMarker at 0x7f47b20f5eb8>,\n",
       " <folium.vector_layers.CircleMarker at 0x7f47b20f5ef0>,\n",
       " <folium.vector_layers.CircleMarker at 0x7f47b20f5f28>,\n",
       " <folium.vector_layers.CircleMarker at 0x7f47b20f5f60>,\n",
       " <folium.vector_layers.CircleMarker at 0x7f47b20f5f98>,\n",
       " <folium.vector_layers.CircleMarker at 0x7f47b20f5fd0>,\n",
       " <folium.vector_layers.CircleMarker at 0x7f47b20f5048>,\n",
       " <folium.vector_layers.CircleMarker at 0x7f47b2104048>,\n",
       " <folium.vector_layers.CircleMarker at 0x7f47b21040b8>,\n",
       " <folium.vector_layers.CircleMarker at 0x7f47b21040f0>,\n",
       " <folium.vector_layers.CircleMarker at 0x7f47b2104128>,\n",
       " <folium.vector_layers.CircleMarker at 0x7f47b2104160>,\n",
       " <folium.vector_layers.CircleMarker at 0x7f47b2104198>,\n",
       " <folium.vector_layers.CircleMarker at 0x7f47b21041d0>,\n",
       " <folium.vector_layers.CircleMarker at 0x7f47b2104208>,\n",
       " <folium.vector_layers.CircleMarker at 0x7f47b2104240>,\n",
       " <folium.vector_layers.CircleMarker at 0x7f47b2104278>,\n",
       " <folium.vector_layers.CircleMarker at 0x7f47b21042b0>,\n",
       " <folium.vector_layers.CircleMarker at 0x7f47b21042e8>,\n",
       " <folium.vector_layers.CircleMarker at 0x7f47b2104320>,\n",
       " <folium.vector_layers.CircleMarker at 0x7f47b2104358>,\n",
       " <folium.vector_layers.CircleMarker at 0x7f47b2104390>,\n",
       " <folium.vector_layers.CircleMarker at 0x7f47b21043c8>,\n",
       " <folium.vector_layers.CircleMarker at 0x7f47b2104400>,\n",
       " <folium.vector_layers.CircleMarker at 0x7f47b2104438>,\n",
       " <folium.vector_layers.CircleMarker at 0x7f47b2104470>,\n",
       " <folium.vector_layers.CircleMarker at 0x7f47b21044a8>,\n",
       " <folium.vector_layers.CircleMarker at 0x7f47b21044e0>,\n",
       " <folium.vector_layers.CircleMarker at 0x7f47b2104518>,\n",
       " <folium.vector_layers.CircleMarker at 0x7f47b2104550>,\n",
       " <folium.vector_layers.CircleMarker at 0x7f47b2104588>,\n",
       " <folium.vector_layers.CircleMarker at 0x7f47b21045c0>,\n",
       " <folium.vector_layers.CircleMarker at 0x7f47b21045f8>,\n",
       " <folium.vector_layers.CircleMarker at 0x7f47b2104630>,\n",
       " <folium.vector_layers.CircleMarker at 0x7f47b2104668>,\n",
       " <folium.vector_layers.CircleMarker at 0x7f47b21046a0>,\n",
       " <folium.vector_layers.CircleMarker at 0x7f47b21046d8>,\n",
       " <folium.vector_layers.CircleMarker at 0x7f47b2104710>,\n",
       " <folium.vector_layers.CircleMarker at 0x7f47b2104748>,\n",
       " <folium.vector_layers.CircleMarker at 0x7f47b2104780>,\n",
       " <folium.vector_layers.CircleMarker at 0x7f47b21047b8>,\n",
       " <folium.vector_layers.CircleMarker at 0x7f47b21047f0>,\n",
       " <folium.vector_layers.CircleMarker at 0x7f47b2104828>,\n",
       " <folium.vector_layers.CircleMarker at 0x7f47b2104860>,\n",
       " <folium.vector_layers.CircleMarker at 0x7f47b2104898>,\n",
       " <folium.vector_layers.CircleMarker at 0x7f47b21048d0>,\n",
       " <folium.vector_layers.CircleMarker at 0x7f47b2104908>,\n",
       " <folium.vector_layers.CircleMarker at 0x7f47b2104940>,\n",
       " <folium.vector_layers.CircleMarker at 0x7f47b2104978>,\n",
       " <folium.vector_layers.CircleMarker at 0x7f47b21049b0>,\n",
       " <folium.vector_layers.CircleMarker at 0x7f47b21049e8>,\n",
       " <folium.vector_layers.CircleMarker at 0x7f47b2104a20>,\n",
       " <folium.vector_layers.CircleMarker at 0x7f47b2104a58>,\n",
       " <folium.vector_layers.CircleMarker at 0x7f47b2104a90>,\n",
       " <folium.vector_layers.CircleMarker at 0x7f47b2104ac8>,\n",
       " <folium.vector_layers.CircleMarker at 0x7f47b2104b00>,\n",
       " <folium.vector_layers.CircleMarker at 0x7f47b2104b38>,\n",
       " <folium.vector_layers.CircleMarker at 0x7f47b2104b70>,\n",
       " <folium.vector_layers.CircleMarker at 0x7f47b2104ba8>,\n",
       " <folium.vector_layers.CircleMarker at 0x7f47b2104be0>,\n",
       " <folium.vector_layers.CircleMarker at 0x7f47b2104c18>,\n",
       " <folium.vector_layers.CircleMarker at 0x7f47b2104c50>,\n",
       " <folium.vector_layers.CircleMarker at 0x7f47b2104c88>,\n",
       " <folium.vector_layers.CircleMarker at 0x7f47b2104cc0>,\n",
       " <folium.vector_layers.CircleMarker at 0x7f47b2104cf8>,\n",
       " <folium.vector_layers.CircleMarker at 0x7f47b2104d30>,\n",
       " <folium.vector_layers.CircleMarker at 0x7f47b2104d68>,\n",
       " <folium.vector_layers.CircleMarker at 0x7f47b2104da0>,\n",
       " <folium.vector_layers.CircleMarker at 0x7f47b2104dd8>,\n",
       " <folium.vector_layers.CircleMarker at 0x7f47b2104e10>,\n",
       " <folium.vector_layers.CircleMarker at 0x7f47b2104e48>,\n",
       " <folium.vector_layers.CircleMarker at 0x7f47b2104e80>,\n",
       " <folium.vector_layers.CircleMarker at 0x7f47b2104eb8>,\n",
       " <folium.vector_layers.CircleMarker at 0x7f47b2104ef0>,\n",
       " <folium.vector_layers.CircleMarker at 0x7f47b2104f28>,\n",
       " <folium.vector_layers.CircleMarker at 0x7f47b2104f60>,\n",
       " <folium.vector_layers.CircleMarker at 0x7f47b2104f98>,\n",
       " <folium.vector_layers.CircleMarker at 0x7f47b2104fd0>,\n",
       " <folium.vector_layers.CircleMarker at 0x7f47b2104080>,\n",
       " <folium.vector_layers.CircleMarker at 0x7f47b2090080>,\n",
       " <folium.vector_layers.CircleMarker at 0x7f47b20900b8>,\n",
       " <folium.vector_layers.CircleMarker at 0x7f47b20900f0>,\n",
       " <folium.vector_layers.CircleMarker at 0x7f47b2090128>,\n",
       " <folium.vector_layers.CircleMarker at 0x7f47b2090160>,\n",
       " <folium.vector_layers.CircleMarker at 0x7f47b2090198>,\n",
       " <folium.vector_layers.CircleMarker at 0x7f47b20901d0>,\n",
       " <folium.vector_layers.CircleMarker at 0x7f47b2090208>,\n",
       " <folium.vector_layers.CircleMarker at 0x7f47b2090240>,\n",
       " <folium.vector_layers.CircleMarker at 0x7f47b2090278>,\n",
       " <folium.vector_layers.CircleMarker at 0x7f47b20902b0>,\n",
       " <folium.vector_layers.CircleMarker at 0x7f47b20902e8>,\n",
       " <folium.vector_layers.CircleMarker at 0x7f47b2090320>,\n",
       " <folium.vector_layers.CircleMarker at 0x7f47b2090358>,\n",
       " <folium.vector_layers.CircleMarker at 0x7f47b2090390>,\n",
       " <folium.vector_layers.CircleMarker at 0x7f47b20903c8>,\n",
       " <folium.vector_layers.CircleMarker at 0x7f47b2090400>,\n",
       " <folium.vector_layers.CircleMarker at 0x7f47b2090438>,\n",
       " <folium.vector_layers.CircleMarker at 0x7f47b2090470>,\n",
       " <folium.vector_layers.CircleMarker at 0x7f47b20904a8>,\n",
       " <folium.vector_layers.CircleMarker at 0x7f47b20904e0>,\n",
       " <folium.vector_layers.CircleMarker at 0x7f47b2090518>,\n",
       " <folium.vector_layers.CircleMarker at 0x7f47b2090550>,\n",
       " <folium.vector_layers.CircleMarker at 0x7f47b2090588>,\n",
       " <folium.vector_layers.CircleMarker at 0x7f47b20905c0>,\n",
       " <folium.vector_layers.CircleMarker at 0x7f47b20905f8>,\n",
       " <folium.vector_layers.CircleMarker at 0x7f47b2090630>,\n",
       " <folium.vector_layers.CircleMarker at 0x7f47b2090668>,\n",
       " <folium.vector_layers.CircleMarker at 0x7f47b20906a0>,\n",
       " <folium.vector_layers.CircleMarker at 0x7f47b20906d8>,\n",
       " <folium.vector_layers.CircleMarker at 0x7f47b2090710>,\n",
       " <folium.vector_layers.CircleMarker at 0x7f47b2090748>,\n",
       " <folium.vector_layers.CircleMarker at 0x7f47b2090780>,\n",
       " <folium.vector_layers.CircleMarker at 0x7f47b20907b8>,\n",
       " <folium.vector_layers.CircleMarker at 0x7f47b20907f0>,\n",
       " <folium.vector_layers.CircleMarker at 0x7f47b2090828>,\n",
       " <folium.vector_layers.CircleMarker at 0x7f47b2090860>,\n",
       " <folium.vector_layers.CircleMarker at 0x7f47b2090898>,\n",
       " <folium.vector_layers.CircleMarker at 0x7f47b20908d0>,\n",
       " <folium.vector_layers.CircleMarker at 0x7f47b2090908>,\n",
       " <folium.vector_layers.CircleMarker at 0x7f47b2090940>,\n",
       " <folium.vector_layers.CircleMarker at 0x7f47b2090978>,\n",
       " <folium.vector_layers.CircleMarker at 0x7f47b20909b0>,\n",
       " <folium.vector_layers.CircleMarker at 0x7f47b20909e8>,\n",
       " <folium.vector_layers.CircleMarker at 0x7f47b2090a20>,\n",
       " <folium.vector_layers.CircleMarker at 0x7f47b2090a58>,\n",
       " <folium.vector_layers.CircleMarker at 0x7f47b2090a90>,\n",
       " <folium.vector_layers.CircleMarker at 0x7f47b2090ac8>,\n",
       " <folium.vector_layers.CircleMarker at 0x7f47b2090b00>,\n",
       " <folium.vector_layers.CircleMarker at 0x7f47b2090b38>,\n",
       " <folium.vector_layers.CircleMarker at 0x7f47b2090b70>,\n",
       " <folium.vector_layers.CircleMarker at 0x7f47b2090ba8>,\n",
       " <folium.vector_layers.CircleMarker at 0x7f47b2090be0>,\n",
       " <folium.vector_layers.CircleMarker at 0x7f47b2090c18>,\n",
       " <folium.vector_layers.CircleMarker at 0x7f47b2090c50>,\n",
       " <folium.vector_layers.CircleMarker at 0x7f47b2090c88>,\n",
       " <folium.vector_layers.CircleMarker at 0x7f47b2090cc0>,\n",
       " <folium.vector_layers.CircleMarker at 0x7f47b2090cf8>,\n",
       " <folium.vector_layers.CircleMarker at 0x7f47b2090d30>,\n",
       " <folium.vector_layers.CircleMarker at 0x7f47b2090d68>,\n",
       " <folium.vector_layers.CircleMarker at 0x7f47b2090da0>,\n",
       " <folium.vector_layers.CircleMarker at 0x7f47b2090dd8>,\n",
       " <folium.vector_layers.CircleMarker at 0x7f47b2090e10>,\n",
       " <folium.vector_layers.CircleMarker at 0x7f47b2090e48>,\n",
       " <folium.vector_layers.CircleMarker at 0x7f47b2090e80>,\n",
       " <folium.vector_layers.CircleMarker at 0x7f47b2090eb8>,\n",
       " <folium.vector_layers.CircleMarker at 0x7f47b2090ef0>,\n",
       " <folium.vector_layers.CircleMarker at 0x7f47b2090f28>,\n",
       " <folium.vector_layers.CircleMarker at 0x7f47b2090f60>,\n",
       " <folium.vector_layers.CircleMarker at 0x7f47b2090f98>,\n",
       " <folium.vector_layers.CircleMarker at 0x7f47b2090fd0>,\n",
       " <folium.vector_layers.CircleMarker at 0x7f47b2090048>,\n",
       " <folium.vector_layers.CircleMarker at 0x7f47b209d048>,\n",
       " <folium.vector_layers.CircleMarker at 0x7f47b209d0b8>,\n",
       " <folium.vector_layers.CircleMarker at 0x7f47b209d0f0>,\n",
       " <folium.vector_layers.CircleMarker at 0x7f47b209d128>,\n",
       " <folium.vector_layers.CircleMarker at 0x7f47b209d160>,\n",
       " <folium.vector_layers.CircleMarker at 0x7f47b209d198>,\n",
       " <folium.vector_layers.CircleMarker at 0x7f47b209d1d0>,\n",
       " <folium.vector_layers.CircleMarker at 0x7f47b209d208>,\n",
       " <folium.vector_layers.CircleMarker at 0x7f47b209d240>,\n",
       " <folium.vector_layers.CircleMarker at 0x7f47b209d278>,\n",
       " <folium.vector_layers.CircleMarker at 0x7f47b209d2b0>,\n",
       " <folium.vector_layers.CircleMarker at 0x7f47b209d2e8>,\n",
       " <folium.vector_layers.CircleMarker at 0x7f47b209d320>,\n",
       " <folium.vector_layers.CircleMarker at 0x7f47b209d358>,\n",
       " <folium.vector_layers.CircleMarker at 0x7f47b209d390>,\n",
       " <folium.vector_layers.CircleMarker at 0x7f47b209d3c8>,\n",
       " <folium.vector_layers.CircleMarker at 0x7f47b209d400>,\n",
       " <folium.vector_layers.CircleMarker at 0x7f47b209d438>,\n",
       " <folium.vector_layers.CircleMarker at 0x7f47b209d470>,\n",
       " <folium.vector_layers.CircleMarker at 0x7f47b209d4a8>,\n",
       " <folium.vector_layers.CircleMarker at 0x7f47b209d4e0>,\n",
       " <folium.vector_layers.CircleMarker at 0x7f47b209d518>,\n",
       " <folium.vector_layers.CircleMarker at 0x7f47b209d550>,\n",
       " <folium.vector_layers.CircleMarker at 0x7f47b209d588>,\n",
       " <folium.vector_layers.CircleMarker at 0x7f47b209d5c0>,\n",
       " <folium.vector_layers.CircleMarker at 0x7f47b209d5f8>,\n",
       " <folium.vector_layers.CircleMarker at 0x7f47b209d630>,\n",
       " <folium.vector_layers.CircleMarker at 0x7f47b209d668>,\n",
       " <folium.vector_layers.CircleMarker at 0x7f47b209d6a0>,\n",
       " <folium.vector_layers.CircleMarker at 0x7f47b209d6d8>,\n",
       " <folium.vector_layers.CircleMarker at 0x7f47b209d710>,\n",
       " <folium.vector_layers.CircleMarker at 0x7f47b209d748>,\n",
       " <folium.vector_layers.CircleMarker at 0x7f47b209d780>,\n",
       " <folium.vector_layers.CircleMarker at 0x7f47b209d7b8>,\n",
       " <folium.vector_layers.CircleMarker at 0x7f47b209d7f0>,\n",
       " <folium.vector_layers.CircleMarker at 0x7f47b209d828>,\n",
       " <folium.vector_layers.CircleMarker at 0x7f47b209d860>,\n",
       " <folium.vector_layers.CircleMarker at 0x7f47b209d898>,\n",
       " <folium.vector_layers.CircleMarker at 0x7f47b209d8d0>,\n",
       " <folium.vector_layers.CircleMarker at 0x7f47b209d908>,\n",
       " <folium.vector_layers.CircleMarker at 0x7f47b209d940>,\n",
       " <folium.vector_layers.CircleMarker at 0x7f47b209d978>,\n",
       " <folium.vector_layers.CircleMarker at 0x7f47b209d9b0>,\n",
       " <folium.vector_layers.CircleMarker at 0x7f47b209d9e8>,\n",
       " <folium.vector_layers.CircleMarker at 0x7f47b209da20>,\n",
       " <folium.vector_layers.CircleMarker at 0x7f47b209da58>,\n",
       " <folium.vector_layers.CircleMarker at 0x7f47b209da90>,\n",
       " <folium.vector_layers.CircleMarker at 0x7f47b209dac8>,\n",
       " <folium.vector_layers.CircleMarker at 0x7f47b209db00>,\n",
       " <folium.vector_layers.CircleMarker at 0x7f47b209db38>,\n",
       " <folium.vector_layers.CircleMarker at 0x7f47b209db70>,\n",
       " <folium.vector_layers.CircleMarker at 0x7f47b209dba8>,\n",
       " <folium.vector_layers.CircleMarker at 0x7f47b209dbe0>,\n",
       " <folium.vector_layers.CircleMarker at 0x7f47b209dc18>,\n",
       " <folium.vector_layers.CircleMarker at 0x7f47b209dc50>,\n",
       " <folium.vector_layers.CircleMarker at 0x7f47b209dc88>,\n",
       " <folium.vector_layers.CircleMarker at 0x7f47b209dcc0>,\n",
       " <folium.vector_layers.CircleMarker at 0x7f47b209dcf8>,\n",
       " <folium.vector_layers.CircleMarker at 0x7f47b209dd30>,\n",
       " <folium.vector_layers.CircleMarker at 0x7f47b209dd68>,\n",
       " <folium.vector_layers.CircleMarker at 0x7f47b209dda0>,\n",
       " <folium.vector_layers.CircleMarker at 0x7f47b209ddd8>,\n",
       " <folium.vector_layers.CircleMarker at 0x7f47b209de10>,\n",
       " <folium.vector_layers.CircleMarker at 0x7f47b209de48>,\n",
       " <folium.vector_layers.CircleMarker at 0x7f47b209de80>,\n",
       " <folium.vector_layers.CircleMarker at 0x7f47b209deb8>,\n",
       " <folium.vector_layers.CircleMarker at 0x7f47b209def0>,\n",
       " <folium.vector_layers.CircleMarker at 0x7f47b209df28>,\n",
       " <folium.vector_layers.CircleMarker at 0x7f47b209df60>,\n",
       " <folium.vector_layers.CircleMarker at 0x7f47b209df98>,\n",
       " <folium.vector_layers.CircleMarker at 0x7f47b209dfd0>,\n",
       " <folium.vector_layers.CircleMarker at 0x7f47b209d080>,\n",
       " <folium.vector_layers.CircleMarker at 0x7f47b20ab080>,\n",
       " <folium.vector_layers.CircleMarker at 0x7f47b20ab0b8>,\n",
       " <folium.vector_layers.CircleMarker at 0x7f47b20ab0f0>,\n",
       " <folium.vector_layers.CircleMarker at 0x7f47b20ab128>,\n",
       " <folium.vector_layers.CircleMarker at 0x7f47b20ab160>,\n",
       " <folium.vector_layers.CircleMarker at 0x7f47b20ab198>,\n",
       " <folium.vector_layers.CircleMarker at 0x7f47b20ab1d0>,\n",
       " <folium.vector_layers.CircleMarker at 0x7f47b20ab208>,\n",
       " <folium.vector_layers.CircleMarker at 0x7f47b20ab240>,\n",
       " <folium.vector_layers.CircleMarker at 0x7f47b20ab278>,\n",
       " <folium.vector_layers.CircleMarker at 0x7f47b20ab2b0>,\n",
       " <folium.vector_layers.CircleMarker at 0x7f47b20ab2e8>,\n",
       " <folium.vector_layers.CircleMarker at 0x7f47b20ab320>,\n",
       " <folium.vector_layers.CircleMarker at 0x7f47b20ab358>,\n",
       " <folium.vector_layers.CircleMarker at 0x7f47b20ab390>,\n",
       " <folium.vector_layers.CircleMarker at 0x7f47b20ab3c8>,\n",
       " <folium.vector_layers.CircleMarker at 0x7f47b20ab400>,\n",
       " <folium.vector_layers.CircleMarker at 0x7f47b20ab438>,\n",
       " <folium.vector_layers.CircleMarker at 0x7f47b20ab470>,\n",
       " <folium.vector_layers.CircleMarker at 0x7f47b20ab4a8>,\n",
       " <folium.vector_layers.CircleMarker at 0x7f47b20ab4e0>,\n",
       " <folium.vector_layers.CircleMarker at 0x7f47b20ab518>,\n",
       " <folium.vector_layers.CircleMarker at 0x7f47b20ab550>,\n",
       " <folium.vector_layers.CircleMarker at 0x7f47b20ab588>,\n",
       " <folium.vector_layers.CircleMarker at 0x7f47b20ab5c0>,\n",
       " <folium.vector_layers.CircleMarker at 0x7f47b20ab5f8>,\n",
       " <folium.vector_layers.CircleMarker at 0x7f47b20ab630>,\n",
       " <folium.vector_layers.CircleMarker at 0x7f47b20ab668>,\n",
       " <folium.vector_layers.CircleMarker at 0x7f47b20ab6a0>,\n",
       " <folium.vector_layers.CircleMarker at 0x7f47b20ab6d8>,\n",
       " <folium.vector_layers.CircleMarker at 0x7f47b20ab710>,\n",
       " <folium.vector_layers.CircleMarker at 0x7f47b20ab748>,\n",
       " <folium.vector_layers.CircleMarker at 0x7f47b20ab780>,\n",
       " <folium.vector_layers.CircleMarker at 0x7f47b20ab7b8>,\n",
       " <folium.vector_layers.CircleMarker at 0x7f47b20ab7f0>,\n",
       " <folium.vector_layers.CircleMarker at 0x7f47b20ab828>,\n",
       " <folium.vector_layers.CircleMarker at 0x7f47b20ab860>,\n",
       " <folium.vector_layers.CircleMarker at 0x7f47b20ab898>,\n",
       " <folium.vector_layers.CircleMarker at 0x7f47b20ab8d0>,\n",
       " <folium.vector_layers.CircleMarker at 0x7f47b20ab908>,\n",
       " <folium.vector_layers.CircleMarker at 0x7f47b20ab940>,\n",
       " <folium.vector_layers.CircleMarker at 0x7f47b20ab978>,\n",
       " <folium.vector_layers.CircleMarker at 0x7f47b20ab9b0>,\n",
       " <folium.vector_layers.CircleMarker at 0x7f47b20ab9e8>,\n",
       " <folium.vector_layers.CircleMarker at 0x7f47b20aba20>,\n",
       " <folium.vector_layers.CircleMarker at 0x7f47b20aba58>,\n",
       " <folium.vector_layers.CircleMarker at 0x7f47b20aba90>,\n",
       " <folium.vector_layers.CircleMarker at 0x7f47b20abac8>,\n",
       " <folium.vector_layers.CircleMarker at 0x7f47b20abb00>,\n",
       " <folium.vector_layers.CircleMarker at 0x7f47b20abb38>,\n",
       " <folium.vector_layers.CircleMarker at 0x7f47b20abb70>,\n",
       " <folium.vector_layers.CircleMarker at 0x7f47b20abba8>,\n",
       " <folium.vector_layers.CircleMarker at 0x7f47b20abbe0>,\n",
       " <folium.vector_layers.CircleMarker at 0x7f47b20abc18>,\n",
       " <folium.vector_layers.CircleMarker at 0x7f47b20abc50>,\n",
       " <folium.vector_layers.CircleMarker at 0x7f47b20abc88>,\n",
       " <folium.vector_layers.CircleMarker at 0x7f47b20abcc0>,\n",
       " <folium.vector_layers.CircleMarker at 0x7f47b20abcf8>,\n",
       " <folium.vector_layers.CircleMarker at 0x7f47b20abd30>,\n",
       " <folium.vector_layers.CircleMarker at 0x7f47b20abd68>,\n",
       " <folium.vector_layers.CircleMarker at 0x7f47b20abda0>,\n",
       " <folium.vector_layers.CircleMarker at 0x7f47b20abdd8>,\n",
       " <folium.vector_layers.CircleMarker at 0x7f47b20abe10>,\n",
       " <folium.vector_layers.CircleMarker at 0x7f47b20abe48>,\n",
       " <folium.vector_layers.CircleMarker at 0x7f47b20abe80>,\n",
       " <folium.vector_layers.CircleMarker at 0x7f47b20abeb8>,\n",
       " <folium.vector_layers.CircleMarker at 0x7f47b20abef0>,\n",
       " <folium.vector_layers.CircleMarker at 0x7f47b20abf28>,\n",
       " <folium.vector_layers.CircleMarker at 0x7f47b20abf60>,\n",
       " <folium.vector_layers.CircleMarker at 0x7f47b20abf98>,\n",
       " <folium.vector_layers.CircleMarker at 0x7f47b20abfd0>,\n",
       " <folium.vector_layers.CircleMarker at 0x7f47b20ab048>,\n",
       " <folium.vector_layers.CircleMarker at 0x7f47b20b9080>,\n",
       " <folium.vector_layers.CircleMarker at 0x7f47b20b90b8>,\n",
       " <folium.vector_layers.CircleMarker at 0x7f47b20b90f0>,\n",
       " <folium.vector_layers.CircleMarker at 0x7f47b20b9128>,\n",
       " <folium.vector_layers.CircleMarker at 0x7f47b20b9160>,\n",
       " <folium.vector_layers.CircleMarker at 0x7f47b20b9198>,\n",
       " <folium.vector_layers.CircleMarker at 0x7f47b20b91d0>,\n",
       " <folium.vector_layers.CircleMarker at 0x7f47b20b9208>,\n",
       " <folium.vector_layers.CircleMarker at 0x7f47b20b9240>,\n",
       " <folium.vector_layers.CircleMarker at 0x7f47b20b9278>,\n",
       " <folium.vector_layers.CircleMarker at 0x7f47b20b92b0>,\n",
       " <folium.vector_layers.CircleMarker at 0x7f47b20b92e8>,\n",
       " <folium.vector_layers.CircleMarker at 0x7f47b20b9320>,\n",
       " <folium.vector_layers.CircleMarker at 0x7f47b20b9358>,\n",
       " <folium.vector_layers.CircleMarker at 0x7f47b20b9390>,\n",
       " <folium.vector_layers.CircleMarker at 0x7f47b20b93c8>,\n",
       " <folium.vector_layers.CircleMarker at 0x7f47b20b9400>,\n",
       " <folium.vector_layers.CircleMarker at 0x7f47b20b9438>,\n",
       " <folium.vector_layers.CircleMarker at 0x7f47b20b9470>,\n",
       " <folium.vector_layers.CircleMarker at 0x7f47b20b94a8>,\n",
       " <folium.vector_layers.CircleMarker at 0x7f47b20b94e0>,\n",
       " <folium.vector_layers.CircleMarker at 0x7f47b20b9518>,\n",
       " <folium.vector_layers.CircleMarker at 0x7f47b20b9550>,\n",
       " <folium.vector_layers.CircleMarker at 0x7f47b20b9588>,\n",
       " <folium.vector_layers.CircleMarker at 0x7f47b20b95c0>,\n",
       " <folium.vector_layers.CircleMarker at 0x7f47b20b95f8>,\n",
       " <folium.vector_layers.CircleMarker at 0x7f47b20b9630>,\n",
       " <folium.vector_layers.CircleMarker at 0x7f47b20b9668>,\n",
       " <folium.vector_layers.CircleMarker at 0x7f47b20b96a0>,\n",
       " <folium.vector_layers.CircleMarker at 0x7f47b20b96d8>,\n",
       " <folium.vector_layers.CircleMarker at 0x7f47b20b9710>,\n",
       " <folium.vector_layers.CircleMarker at 0x7f47b20b9748>,\n",
       " <folium.vector_layers.CircleMarker at 0x7f47b20b9780>,\n",
       " <folium.vector_layers.CircleMarker at 0x7f47b20b97b8>,\n",
       " <folium.vector_layers.CircleMarker at 0x7f47b20b97f0>,\n",
       " <folium.vector_layers.CircleMarker at 0x7f47b20b9828>,\n",
       " <folium.vector_layers.CircleMarker at 0x7f47b20b9860>,\n",
       " <folium.vector_layers.CircleMarker at 0x7f47b20b9898>,\n",
       " <folium.vector_layers.CircleMarker at 0x7f47b20b98d0>,\n",
       " <folium.vector_layers.CircleMarker at 0x7f47b20b9908>,\n",
       " <folium.vector_layers.CircleMarker at 0x7f47b20b9940>,\n",
       " <folium.vector_layers.CircleMarker at 0x7f47b20b9978>,\n",
       " <folium.vector_layers.CircleMarker at 0x7f47b20b99b0>,\n",
       " <folium.vector_layers.CircleMarker at 0x7f47b20b99e8>,\n",
       " <folium.vector_layers.CircleMarker at 0x7f47b20b9a20>,\n",
       " <folium.vector_layers.CircleMarker at 0x7f47b20b9a58>,\n",
       " <folium.vector_layers.CircleMarker at 0x7f47b20b9a90>,\n",
       " <folium.vector_layers.CircleMarker at 0x7f47b20b9ac8>,\n",
       " <folium.vector_layers.CircleMarker at 0x7f47b20b9b00>,\n",
       " <folium.vector_layers.CircleMarker at 0x7f47b20b9b38>,\n",
       " <folium.vector_layers.CircleMarker at 0x7f47b20b9b70>,\n",
       " <folium.vector_layers.CircleMarker at 0x7f47b20b9ba8>,\n",
       " <folium.vector_layers.CircleMarker at 0x7f47b20b9be0>,\n",
       " <folium.vector_layers.CircleMarker at 0x7f47b20b9c18>,\n",
       " <folium.vector_layers.CircleMarker at 0x7f47b20b9c50>,\n",
       " <folium.vector_layers.CircleMarker at 0x7f47b20b9c88>,\n",
       " <folium.vector_layers.CircleMarker at 0x7f47b20b9cc0>,\n",
       " <folium.vector_layers.CircleMarker at 0x7f47b20b9cf8>,\n",
       " <folium.vector_layers.CircleMarker at 0x7f47b20b9d30>,\n",
       " <folium.vector_layers.CircleMarker at 0x7f47b20b9d68>,\n",
       " <folium.vector_layers.CircleMarker at 0x7f47b20b9da0>,\n",
       " <folium.vector_layers.CircleMarker at 0x7f47b20b9dd8>,\n",
       " <folium.vector_layers.CircleMarker at 0x7f47b20b9e10>,\n",
       " <folium.vector_layers.CircleMarker at 0x7f47b20b9e48>,\n",
       " <folium.vector_layers.CircleMarker at 0x7f47b20b9e80>,\n",
       " <folium.vector_layers.CircleMarker at 0x7f47b20b9eb8>,\n",
       " <folium.vector_layers.CircleMarker at 0x7f47b20b9ef0>,\n",
       " <folium.vector_layers.CircleMarker at 0x7f47b20b9f28>,\n",
       " <folium.vector_layers.CircleMarker at 0x7f47b20b9f60>,\n",
       " <folium.vector_layers.CircleMarker at 0x7f47b20b9f98>,\n",
       " <folium.vector_layers.CircleMarker at 0x7f47b20b9fd0>,\n",
       " <folium.vector_layers.CircleMarker at 0x7f47b20b9048>,\n",
       " <folium.vector_layers.CircleMarker at 0x7f47b20c8080>,\n",
       " <folium.vector_layers.CircleMarker at 0x7f47b20c80b8>,\n",
       " <folium.vector_layers.CircleMarker at 0x7f47b20c80f0>,\n",
       " <folium.vector_layers.CircleMarker at 0x7f47b20c8128>,\n",
       " <folium.vector_layers.CircleMarker at 0x7f47b20c8160>,\n",
       " <folium.vector_layers.CircleMarker at 0x7f47b20c8198>,\n",
       " <folium.vector_layers.CircleMarker at 0x7f47b20c81d0>,\n",
       " <folium.vector_layers.CircleMarker at 0x7f47b20c8208>,\n",
       " <folium.vector_layers.CircleMarker at 0x7f47b20c8240>,\n",
       " <folium.vector_layers.CircleMarker at 0x7f47b20c8278>,\n",
       " <folium.vector_layers.CircleMarker at 0x7f47b20c82b0>,\n",
       " <folium.vector_layers.CircleMarker at 0x7f47b20c82e8>,\n",
       " <folium.vector_layers.CircleMarker at 0x7f47b20c8320>,\n",
       " <folium.vector_layers.CircleMarker at 0x7f47b20c8358>,\n",
       " <folium.vector_layers.CircleMarker at 0x7f47b20c8390>,\n",
       " <folium.vector_layers.CircleMarker at 0x7f47b20c83c8>,\n",
       " <folium.vector_layers.CircleMarker at 0x7f47b20c8400>,\n",
       " <folium.vector_layers.CircleMarker at 0x7f47b20c8438>,\n",
       " <folium.vector_layers.CircleMarker at 0x7f47b20c8470>,\n",
       " <folium.vector_layers.CircleMarker at 0x7f47b20c84a8>,\n",
       " <folium.vector_layers.CircleMarker at 0x7f47b20c84e0>,\n",
       " <folium.vector_layers.CircleMarker at 0x7f47b20c8518>,\n",
       " <folium.vector_layers.CircleMarker at 0x7f47b20c8550>,\n",
       " <folium.vector_layers.CircleMarker at 0x7f47b20c8588>,\n",
       " <folium.vector_layers.CircleMarker at 0x7f47b20c85c0>,\n",
       " <folium.vector_layers.CircleMarker at 0x7f47b20c85f8>,\n",
       " <folium.vector_layers.CircleMarker at 0x7f47b20c8630>,\n",
       " <folium.vector_layers.CircleMarker at 0x7f47b20c8668>,\n",
       " <folium.vector_layers.CircleMarker at 0x7f47b20c86a0>,\n",
       " <folium.vector_layers.CircleMarker at 0x7f47b20c86d8>,\n",
       " <folium.vector_layers.CircleMarker at 0x7f47b20c8710>,\n",
       " <folium.vector_layers.CircleMarker at 0x7f47b20c8748>,\n",
       " <folium.vector_layers.CircleMarker at 0x7f47b20c8780>,\n",
       " <folium.vector_layers.CircleMarker at 0x7f47b20c87b8>,\n",
       " <folium.vector_layers.CircleMarker at 0x7f47b20c87f0>,\n",
       " <folium.vector_layers.CircleMarker at 0x7f47b20c8828>,\n",
       " <folium.vector_layers.CircleMarker at 0x7f47b20c8860>,\n",
       " <folium.vector_layers.CircleMarker at 0x7f47b20c8898>,\n",
       " <folium.vector_layers.CircleMarker at 0x7f47b20c88d0>,\n",
       " <folium.vector_layers.CircleMarker at 0x7f47b20c8908>,\n",
       " <folium.vector_layers.CircleMarker at 0x7f47b20c8940>,\n",
       " <folium.vector_layers.CircleMarker at 0x7f47b20c8978>,\n",
       " <folium.vector_layers.CircleMarker at 0x7f47b20c89b0>,\n",
       " <folium.vector_layers.CircleMarker at 0x7f47b20c89e8>,\n",
       " <folium.vector_layers.CircleMarker at 0x7f47b20c8a20>,\n",
       " <folium.vector_layers.CircleMarker at 0x7f47b20c8a58>,\n",
       " <folium.vector_layers.CircleMarker at 0x7f47b20c8a90>,\n",
       " <folium.vector_layers.CircleMarker at 0x7f47b20c8ac8>,\n",
       " <folium.vector_layers.CircleMarker at 0x7f47b20c8b00>,\n",
       " <folium.vector_layers.CircleMarker at 0x7f47b20c8b38>,\n",
       " <folium.vector_layers.CircleMarker at 0x7f47b20c8b70>,\n",
       " <folium.vector_layers.CircleMarker at 0x7f47b20c8ba8>,\n",
       " <folium.vector_layers.CircleMarker at 0x7f47b20c8be0>,\n",
       " <folium.vector_layers.CircleMarker at 0x7f47b20c8c18>,\n",
       " <folium.vector_layers.CircleMarker at 0x7f47b20c8c50>,\n",
       " <folium.vector_layers.CircleMarker at 0x7f47b20c8c88>,\n",
       " <folium.vector_layers.CircleMarker at 0x7f47b20c8cc0>,\n",
       " <folium.vector_layers.CircleMarker at 0x7f47b20c8cf8>,\n",
       " <folium.vector_layers.CircleMarker at 0x7f47b20c8d30>,\n",
       " <folium.vector_layers.CircleMarker at 0x7f47b20c8d68>,\n",
       " <folium.vector_layers.CircleMarker at 0x7f47b20c8da0>,\n",
       " <folium.vector_layers.CircleMarker at 0x7f47b20c8dd8>,\n",
       " <folium.vector_layers.CircleMarker at 0x7f47b20c8e10>,\n",
       " <folium.vector_layers.CircleMarker at 0x7f47b20c8e48>,\n",
       " <folium.vector_layers.CircleMarker at 0x7f47b20c8e80>,\n",
       " <folium.vector_layers.CircleMarker at 0x7f47b20c8eb8>,\n",
       " <folium.vector_layers.CircleMarker at 0x7f47b20c8ef0>,\n",
       " <folium.vector_layers.CircleMarker at 0x7f47b20c8f28>,\n",
       " <folium.vector_layers.CircleMarker at 0x7f47b20c8f60>,\n",
       " <folium.vector_layers.CircleMarker at 0x7f47b20c8f98>,\n",
       " <folium.vector_layers.CircleMarker at 0x7f47b20c8fd0>,\n",
       " <folium.vector_layers.CircleMarker at 0x7f47b20c8048>,\n",
       " <folium.vector_layers.CircleMarker at 0x7f47b2055080>,\n",
       " <folium.vector_layers.CircleMarker at 0x7f47b20550b8>,\n",
       " <folium.vector_layers.CircleMarker at 0x7f47b20550f0>,\n",
       " <folium.vector_layers.CircleMarker at 0x7f47b2055128>,\n",
       " <folium.vector_layers.CircleMarker at 0x7f47b2055160>,\n",
       " <folium.vector_layers.CircleMarker at 0x7f47b2055198>,\n",
       " <folium.vector_layers.CircleMarker at 0x7f47b20551d0>,\n",
       " <folium.vector_layers.CircleMarker at 0x7f47b2055208>,\n",
       " <folium.vector_layers.CircleMarker at 0x7f47b2055240>,\n",
       " <folium.vector_layers.CircleMarker at 0x7f47b2055278>,\n",
       " <folium.vector_layers.CircleMarker at 0x7f47b20552b0>,\n",
       " <folium.vector_layers.CircleMarker at 0x7f47b20552e8>,\n",
       " <folium.vector_layers.CircleMarker at 0x7f47b2055320>,\n",
       " <folium.vector_layers.CircleMarker at 0x7f47b2055358>,\n",
       " <folium.vector_layers.CircleMarker at 0x7f47b2055390>,\n",
       " <folium.vector_layers.CircleMarker at 0x7f47b20553c8>,\n",
       " <folium.vector_layers.CircleMarker at 0x7f47b2055400>,\n",
       " <folium.vector_layers.CircleMarker at 0x7f47b2055438>,\n",
       " <folium.vector_layers.CircleMarker at 0x7f47b2055470>,\n",
       " <folium.vector_layers.CircleMarker at 0x7f47b20554a8>,\n",
       " <folium.vector_layers.CircleMarker at 0x7f47b20554e0>,\n",
       " <folium.vector_layers.CircleMarker at 0x7f47b2055518>,\n",
       " <folium.vector_layers.CircleMarker at 0x7f47b2055550>,\n",
       " <folium.vector_layers.CircleMarker at 0x7f47b2055588>,\n",
       " <folium.vector_layers.CircleMarker at 0x7f47b20555c0>,\n",
       " <folium.vector_layers.CircleMarker at 0x7f47b20555f8>,\n",
       " <folium.vector_layers.CircleMarker at 0x7f47b2055630>,\n",
       " <folium.vector_layers.CircleMarker at 0x7f47b2055668>,\n",
       " <folium.vector_layers.CircleMarker at 0x7f47b20556a0>,\n",
       " <folium.vector_layers.CircleMarker at 0x7f47b20556d8>,\n",
       " <folium.vector_layers.CircleMarker at 0x7f47b2055710>,\n",
       " <folium.vector_layers.CircleMarker at 0x7f47b2055748>,\n",
       " <folium.vector_layers.CircleMarker at 0x7f47b2055780>,\n",
       " <folium.vector_layers.CircleMarker at 0x7f47b20557b8>,\n",
       " <folium.vector_layers.CircleMarker at 0x7f47b20557f0>,\n",
       " <folium.vector_layers.CircleMarker at 0x7f47b2055828>,\n",
       " <folium.vector_layers.CircleMarker at 0x7f47b2055860>,\n",
       " <folium.vector_layers.CircleMarker at 0x7f47b2055898>,\n",
       " <folium.vector_layers.CircleMarker at 0x7f47b20558d0>,\n",
       " <folium.vector_layers.CircleMarker at 0x7f47b2055908>,\n",
       " <folium.vector_layers.CircleMarker at 0x7f47b2055940>,\n",
       " <folium.vector_layers.CircleMarker at 0x7f47b2055978>,\n",
       " <folium.vector_layers.CircleMarker at 0x7f47b20559b0>,\n",
       " <folium.vector_layers.CircleMarker at 0x7f47b20559e8>,\n",
       " <folium.vector_layers.CircleMarker at 0x7f47b2055a20>,\n",
       " <folium.vector_layers.CircleMarker at 0x7f47b2055a58>,\n",
       " <folium.vector_layers.CircleMarker at 0x7f47b2055a90>,\n",
       " <folium.vector_layers.CircleMarker at 0x7f47b2055ac8>,\n",
       " <folium.vector_layers.CircleMarker at 0x7f47b2055b00>,\n",
       " <folium.vector_layers.CircleMarker at 0x7f47b2055b38>,\n",
       " <folium.vector_layers.CircleMarker at 0x7f47b2055b70>,\n",
       " <folium.vector_layers.CircleMarker at 0x7f47b2055ba8>,\n",
       " <folium.vector_layers.CircleMarker at 0x7f47b2055be0>,\n",
       " <folium.vector_layers.CircleMarker at 0x7f47b2055c18>,\n",
       " <folium.vector_layers.CircleMarker at 0x7f47b2055c50>,\n",
       " <folium.vector_layers.CircleMarker at 0x7f47b2055c88>,\n",
       " <folium.vector_layers.CircleMarker at 0x7f47b2055cc0>,\n",
       " <folium.vector_layers.CircleMarker at 0x7f47b2055cf8>,\n",
       " <folium.vector_layers.CircleMarker at 0x7f47b2055d30>,\n",
       " <folium.vector_layers.CircleMarker at 0x7f47b2055d68>,\n",
       " <folium.vector_layers.CircleMarker at 0x7f47b2055da0>,\n",
       " <folium.vector_layers.CircleMarker at 0x7f47b2055dd8>,\n",
       " <folium.vector_layers.CircleMarker at 0x7f47b2055e10>,\n",
       " <folium.vector_layers.CircleMarker at 0x7f47b2055e48>,\n",
       " <folium.vector_layers.CircleMarker at 0x7f47b2055e80>,\n",
       " <folium.vector_layers.CircleMarker at 0x7f47b2055eb8>,\n",
       " <folium.vector_layers.CircleMarker at 0x7f47b2055ef0>,\n",
       " <folium.vector_layers.CircleMarker at 0x7f47b2055f28>,\n",
       " <folium.vector_layers.CircleMarker at 0x7f47b2055f60>,\n",
       " <folium.vector_layers.CircleMarker at 0x7f47b2055f98>,\n",
       " <folium.vector_layers.CircleMarker at 0x7f47b2055fd0>,\n",
       " <folium.vector_layers.CircleMarker at 0x7f47b2055048>,\n",
       " <folium.vector_layers.CircleMarker at 0x7f47b2064080>,\n",
       " <folium.vector_layers.CircleMarker at 0x7f47b20640b8>,\n",
       " <folium.vector_layers.CircleMarker at 0x7f47b20640f0>,\n",
       " <folium.vector_layers.CircleMarker at 0x7f47b2064128>,\n",
       " <folium.vector_layers.CircleMarker at 0x7f47b2064160>,\n",
       " <folium.vector_layers.CircleMarker at 0x7f47b2064198>,\n",
       " <folium.vector_layers.CircleMarker at 0x7f47b20641d0>,\n",
       " <folium.vector_layers.CircleMarker at 0x7f47b2064208>,\n",
       " <folium.vector_layers.CircleMarker at 0x7f47b2064240>,\n",
       " <folium.vector_layers.CircleMarker at 0x7f47b2064278>,\n",
       " <folium.vector_layers.CircleMarker at 0x7f47b20642b0>,\n",
       " <folium.vector_layers.CircleMarker at 0x7f47b20642e8>,\n",
       " <folium.vector_layers.CircleMarker at 0x7f47b2064320>,\n",
       " <folium.vector_layers.CircleMarker at 0x7f47b2064358>,\n",
       " <folium.vector_layers.CircleMarker at 0x7f47b2064390>,\n",
       " <folium.vector_layers.CircleMarker at 0x7f47b20643c8>,\n",
       " <folium.vector_layers.CircleMarker at 0x7f47b2064400>,\n",
       " <folium.vector_layers.CircleMarker at 0x7f47b2064438>,\n",
       " <folium.vector_layers.CircleMarker at 0x7f47b2064470>,\n",
       " <folium.vector_layers.CircleMarker at 0x7f47b20644a8>,\n",
       " <folium.vector_layers.CircleMarker at 0x7f47b20644e0>,\n",
       " <folium.vector_layers.CircleMarker at 0x7f47b2064518>,\n",
       " <folium.vector_layers.CircleMarker at 0x7f47b2064550>,\n",
       " <folium.vector_layers.CircleMarker at 0x7f47b2064588>,\n",
       " <folium.vector_layers.CircleMarker at 0x7f47b20645c0>,\n",
       " <folium.vector_layers.CircleMarker at 0x7f47b20645f8>,\n",
       " <folium.vector_layers.CircleMarker at 0x7f47b2064630>,\n",
       " <folium.vector_layers.CircleMarker at 0x7f47b2064668>,\n",
       " <folium.vector_layers.CircleMarker at 0x7f47b20646a0>,\n",
       " <folium.vector_layers.CircleMarker at 0x7f47b20646d8>,\n",
       " <folium.vector_layers.CircleMarker at 0x7f47b2064710>,\n",
       " <folium.vector_layers.CircleMarker at 0x7f47b2064748>,\n",
       " <folium.vector_layers.CircleMarker at 0x7f47b2064780>,\n",
       " <folium.vector_layers.CircleMarker at 0x7f47b20647b8>,\n",
       " <folium.vector_layers.CircleMarker at 0x7f47b20647f0>,\n",
       " <folium.vector_layers.CircleMarker at 0x7f47b2064828>,\n",
       " <folium.vector_layers.CircleMarker at 0x7f47b2064860>,\n",
       " <folium.vector_layers.CircleMarker at 0x7f47b2064898>,\n",
       " <folium.vector_layers.CircleMarker at 0x7f47b20648d0>,\n",
       " <folium.vector_layers.CircleMarker at 0x7f47b2064908>,\n",
       " <folium.vector_layers.CircleMarker at 0x7f47b2064940>,\n",
       " <folium.vector_layers.CircleMarker at 0x7f47b2064978>,\n",
       " <folium.vector_layers.CircleMarker at 0x7f47b20649b0>,\n",
       " <folium.vector_layers.CircleMarker at 0x7f47b20649e8>,\n",
       " <folium.vector_layers.CircleMarker at 0x7f47b2064a20>,\n",
       " <folium.vector_layers.CircleMarker at 0x7f47b2064a58>,\n",
       " <folium.vector_layers.CircleMarker at 0x7f47b2064a90>,\n",
       " <folium.vector_layers.CircleMarker at 0x7f47b2064ac8>,\n",
       " <folium.vector_layers.CircleMarker at 0x7f47b2064b00>,\n",
       " <folium.vector_layers.CircleMarker at 0x7f47b2064b38>,\n",
       " <folium.vector_layers.CircleMarker at 0x7f47b2064b70>,\n",
       " <folium.vector_layers.CircleMarker at 0x7f47b2064ba8>,\n",
       " <folium.vector_layers.CircleMarker at 0x7f47b2064be0>,\n",
       " <folium.vector_layers.CircleMarker at 0x7f47b2064c18>,\n",
       " <folium.vector_layers.CircleMarker at 0x7f47b2064c50>,\n",
       " <folium.vector_layers.CircleMarker at 0x7f47b2064c88>,\n",
       " <folium.vector_layers.CircleMarker at 0x7f47b2064cc0>,\n",
       " <folium.vector_layers.CircleMarker at 0x7f47b2064cf8>,\n",
       " <folium.vector_layers.CircleMarker at 0x7f47b2064d30>,\n",
       " <folium.vector_layers.CircleMarker at 0x7f47b2064d68>,\n",
       " <folium.vector_layers.CircleMarker at 0x7f47b2064da0>,\n",
       " <folium.vector_layers.CircleMarker at 0x7f47b2064dd8>,\n",
       " <folium.vector_layers.CircleMarker at 0x7f47b2064e10>,\n",
       " <folium.vector_layers.CircleMarker at 0x7f47b2064e48>,\n",
       " <folium.vector_layers.CircleMarker at 0x7f47b2064e80>,\n",
       " <folium.vector_layers.CircleMarker at 0x7f47b2064eb8>,\n",
       " <folium.vector_layers.CircleMarker at 0x7f47b2064ef0>,\n",
       " <folium.vector_layers.CircleMarker at 0x7f47b2064f28>,\n",
       " <folium.vector_layers.CircleMarker at 0x7f47b2064f60>,\n",
       " <folium.vector_layers.CircleMarker at 0x7f47b2064f98>,\n",
       " <folium.vector_layers.CircleMarker at 0x7f47b2064fd0>,\n",
       " <folium.vector_layers.CircleMarker at 0x7f47b2064048>,\n",
       " <folium.vector_layers.CircleMarker at 0x7f47b2070080>,\n",
       " <folium.vector_layers.CircleMarker at 0x7f47b20700b8>,\n",
       " <folium.vector_layers.CircleMarker at 0x7f47b20700f0>,\n",
       " <folium.vector_layers.CircleMarker at 0x7f47b2070128>,\n",
       " <folium.vector_layers.CircleMarker at 0x7f47b2070160>,\n",
       " <folium.vector_layers.CircleMarker at 0x7f47b2070198>,\n",
       " <folium.vector_layers.CircleMarker at 0x7f47b20701d0>,\n",
       " <folium.vector_layers.CircleMarker at 0x7f47b2070208>,\n",
       " <folium.vector_layers.CircleMarker at 0x7f47b2070240>,\n",
       " <folium.vector_layers.CircleMarker at 0x7f47b2070278>,\n",
       " <folium.vector_layers.CircleMarker at 0x7f47b20702b0>,\n",
       " <folium.vector_layers.CircleMarker at 0x7f47b20702e8>,\n",
       " <folium.vector_layers.CircleMarker at 0x7f47b2070320>,\n",
       " <folium.vector_layers.CircleMarker at 0x7f47b2070358>,\n",
       " <folium.vector_layers.CircleMarker at 0x7f47b2070390>,\n",
       " <folium.vector_layers.CircleMarker at 0x7f47b20703c8>,\n",
       " <folium.vector_layers.CircleMarker at 0x7f47b2070400>,\n",
       " <folium.vector_layers.CircleMarker at 0x7f47b2070438>,\n",
       " <folium.vector_layers.CircleMarker at 0x7f47b2070470>,\n",
       " <folium.vector_layers.CircleMarker at 0x7f47b20704a8>,\n",
       " <folium.vector_layers.CircleMarker at 0x7f47b20704e0>,\n",
       " <folium.vector_layers.CircleMarker at 0x7f47b2070518>,\n",
       " <folium.vector_layers.CircleMarker at 0x7f47b2070550>,\n",
       " <folium.vector_layers.CircleMarker at 0x7f47b2070588>,\n",
       " <folium.vector_layers.CircleMarker at 0x7f47b20705c0>,\n",
       " <folium.vector_layers.CircleMarker at 0x7f47b20705f8>,\n",
       " <folium.vector_layers.CircleMarker at 0x7f47b2070630>,\n",
       " <folium.vector_layers.CircleMarker at 0x7f47b2070668>,\n",
       " <folium.vector_layers.CircleMarker at 0x7f47b20706a0>,\n",
       " <folium.vector_layers.CircleMarker at 0x7f47b20706d8>,\n",
       " <folium.vector_layers.CircleMarker at 0x7f47b2070710>,\n",
       " <folium.vector_layers.CircleMarker at 0x7f47b2070748>,\n",
       " <folium.vector_layers.CircleMarker at 0x7f47b2070780>,\n",
       " <folium.vector_layers.CircleMarker at 0x7f47b20707b8>,\n",
       " <folium.vector_layers.CircleMarker at 0x7f47b20707f0>,\n",
       " <folium.vector_layers.CircleMarker at 0x7f47b2070828>,\n",
       " <folium.vector_layers.CircleMarker at 0x7f47b2070860>,\n",
       " <folium.vector_layers.CircleMarker at 0x7f47b2070898>,\n",
       " <folium.vector_layers.CircleMarker at 0x7f47b20708d0>,\n",
       " <folium.vector_layers.CircleMarker at 0x7f47b2070908>,\n",
       " <folium.vector_layers.CircleMarker at 0x7f47b2070940>,\n",
       " <folium.vector_layers.CircleMarker at 0x7f47b2070978>,\n",
       " <folium.vector_layers.CircleMarker at 0x7f47b20709b0>,\n",
       " <folium.vector_layers.CircleMarker at 0x7f47b20709e8>,\n",
       " <folium.vector_layers.CircleMarker at 0x7f47b2070a20>,\n",
       " <folium.vector_layers.CircleMarker at 0x7f47b2070a58>,\n",
       " <folium.vector_layers.CircleMarker at 0x7f47b2070a90>,\n",
       " <folium.vector_layers.CircleMarker at 0x7f47b2070ac8>,\n",
       " <folium.vector_layers.CircleMarker at 0x7f47b2070b00>,\n",
       " <folium.vector_layers.CircleMarker at 0x7f47b2070b38>,\n",
       " <folium.vector_layers.CircleMarker at 0x7f47b2070b70>,\n",
       " <folium.vector_layers.CircleMarker at 0x7f47b2070ba8>,\n",
       " <folium.vector_layers.CircleMarker at 0x7f47b2070be0>,\n",
       " <folium.vector_layers.CircleMarker at 0x7f47b2070c18>,\n",
       " <folium.vector_layers.CircleMarker at 0x7f47b2070c50>,\n",
       " <folium.vector_layers.CircleMarker at 0x7f47b2070c88>,\n",
       " <folium.vector_layers.CircleMarker at 0x7f47b2070cc0>,\n",
       " <folium.vector_layers.CircleMarker at 0x7f47b2070cf8>,\n",
       " <folium.vector_layers.CircleMarker at 0x7f47b2070d30>,\n",
       " <folium.vector_layers.CircleMarker at 0x7f47b2070d68>,\n",
       " <folium.vector_layers.CircleMarker at 0x7f47b2070da0>,\n",
       " <folium.vector_layers.CircleMarker at 0x7f47b2070dd8>,\n",
       " <folium.vector_layers.CircleMarker at 0x7f47b2070e10>,\n",
       " <folium.vector_layers.CircleMarker at 0x7f47b2070e48>,\n",
       " <folium.vector_layers.CircleMarker at 0x7f47b2070e80>,\n",
       " <folium.vector_layers.CircleMarker at 0x7f47b2070eb8>,\n",
       " <folium.vector_layers.CircleMarker at 0x7f47b2070ef0>,\n",
       " <folium.vector_layers.CircleMarker at 0x7f47b2070f28>,\n",
       " <folium.vector_layers.CircleMarker at 0x7f47b2070f60>,\n",
       " <folium.vector_layers.CircleMarker at 0x7f47b2070f98>,\n",
       " <folium.vector_layers.CircleMarker at 0x7f47b2070fd0>,\n",
       " <folium.vector_layers.CircleMarker at 0x7f47b2070048>,\n",
       " <folium.vector_layers.CircleMarker at 0x7f47b207f080>,\n",
       " <folium.vector_layers.CircleMarker at 0x7f47b207f0b8>,\n",
       " <folium.vector_layers.CircleMarker at 0x7f47b207f0f0>,\n",
       " <folium.vector_layers.CircleMarker at 0x7f47b207f128>,\n",
       " <folium.vector_layers.CircleMarker at 0x7f47b207f160>,\n",
       " <folium.vector_layers.CircleMarker at 0x7f47b207f198>,\n",
       " <folium.vector_layers.CircleMarker at 0x7f47b207f1d0>,\n",
       " <folium.vector_layers.CircleMarker at 0x7f47b207f208>,\n",
       " <folium.vector_layers.CircleMarker at 0x7f47b207f240>,\n",
       " <folium.vector_layers.CircleMarker at 0x7f47b207f278>,\n",
       " <folium.vector_layers.CircleMarker at 0x7f47b207f2b0>,\n",
       " <folium.vector_layers.CircleMarker at 0x7f47b207f2e8>,\n",
       " <folium.vector_layers.CircleMarker at 0x7f47b207f320>,\n",
       " <folium.vector_layers.CircleMarker at 0x7f47b207f358>,\n",
       " <folium.vector_layers.CircleMarker at 0x7f47b207f390>,\n",
       " <folium.vector_layers.CircleMarker at 0x7f47b207f3c8>,\n",
       " <folium.vector_layers.CircleMarker at 0x7f47b207f400>,\n",
       " <folium.vector_layers.CircleMarker at 0x7f47b207f438>,\n",
       " <folium.vector_layers.CircleMarker at 0x7f47b207f470>,\n",
       " <folium.vector_layers.CircleMarker at 0x7f47b207f4a8>,\n",
       " <folium.vector_layers.CircleMarker at 0x7f47b207f4e0>,\n",
       " <folium.vector_layers.CircleMarker at 0x7f47b207f518>,\n",
       " <folium.vector_layers.CircleMarker at 0x7f47b207f550>,\n",
       " <folium.vector_layers.CircleMarker at 0x7f47b207f588>,\n",
       " <folium.vector_layers.CircleMarker at 0x7f47b207f5c0>,\n",
       " <folium.vector_layers.CircleMarker at 0x7f47b207f5f8>,\n",
       " <folium.vector_layers.CircleMarker at 0x7f47b207f630>,\n",
       " <folium.vector_layers.CircleMarker at 0x7f47b207f668>,\n",
       " <folium.vector_layers.CircleMarker at 0x7f47b207f6a0>,\n",
       " <folium.vector_layers.CircleMarker at 0x7f47b207f6d8>,\n",
       " <folium.vector_layers.CircleMarker at 0x7f47b207f710>,\n",
       " <folium.vector_layers.CircleMarker at 0x7f47b207f748>,\n",
       " <folium.vector_layers.CircleMarker at 0x7f47b207f780>,\n",
       " <folium.vector_layers.CircleMarker at 0x7f47b207f7b8>,\n",
       " <folium.vector_layers.CircleMarker at 0x7f47b207f7f0>,\n",
       " <folium.vector_layers.CircleMarker at 0x7f47b207f828>,\n",
       " <folium.vector_layers.CircleMarker at 0x7f47b207f860>,\n",
       " <folium.vector_layers.CircleMarker at 0x7f47b207f898>,\n",
       " <folium.vector_layers.CircleMarker at 0x7f47b207f8d0>,\n",
       " <folium.vector_layers.CircleMarker at 0x7f47b207f908>,\n",
       " <folium.vector_layers.CircleMarker at 0x7f47b207f940>,\n",
       " <folium.vector_layers.CircleMarker at 0x7f47b207f978>,\n",
       " <folium.vector_layers.CircleMarker at 0x7f47b207f9b0>,\n",
       " <folium.vector_layers.CircleMarker at 0x7f47b207f9e8>,\n",
       " <folium.vector_layers.CircleMarker at 0x7f47b207fa20>,\n",
       " <folium.vector_layers.CircleMarker at 0x7f47b207fa58>,\n",
       " <folium.vector_layers.CircleMarker at 0x7f47b207fa90>,\n",
       " <folium.vector_layers.CircleMarker at 0x7f47b207fac8>,\n",
       " <folium.vector_layers.CircleMarker at 0x7f47b207fb00>,\n",
       " <folium.vector_layers.CircleMarker at 0x7f47b207fb38>,\n",
       " <folium.vector_layers.CircleMarker at 0x7f47b207fb70>,\n",
       " <folium.vector_layers.CircleMarker at 0x7f47b207fba8>,\n",
       " <folium.vector_layers.CircleMarker at 0x7f47b207fbe0>,\n",
       " <folium.vector_layers.CircleMarker at 0x7f47b207fc18>,\n",
       " <folium.vector_layers.CircleMarker at 0x7f47b207fc50>,\n",
       " <folium.vector_layers.CircleMarker at 0x7f47b207fc88>,\n",
       " <folium.vector_layers.CircleMarker at 0x7f47b207fcc0>,\n",
       " <folium.vector_layers.CircleMarker at 0x7f47b207fcf8>,\n",
       " <folium.vector_layers.CircleMarker at 0x7f47b207fd30>,\n",
       " <folium.vector_layers.CircleMarker at 0x7f47b207fd68>,\n",
       " <folium.vector_layers.CircleMarker at 0x7f47b207fda0>,\n",
       " <folium.vector_layers.CircleMarker at 0x7f47b207fdd8>,\n",
       " <folium.vector_layers.CircleMarker at 0x7f47b207fe10>,\n",
       " <folium.vector_layers.CircleMarker at 0x7f47b207fe48>,\n",
       " <folium.vector_layers.CircleMarker at 0x7f47b207fe80>,\n",
       " <folium.vector_layers.CircleMarker at 0x7f47b207feb8>,\n",
       " <folium.vector_layers.CircleMarker at 0x7f47b207fef0>,\n",
       " <folium.vector_layers.CircleMarker at 0x7f47b207ff28>,\n",
       " <folium.vector_layers.CircleMarker at 0x7f47b207ff60>,\n",
       " <folium.vector_layers.CircleMarker at 0x7f47b207ff98>]"
      ]
     },
     "execution_count": 47,
     "metadata": {},
     "output_type": "execute_result"
    }
   ],
   "source": [
    "map_with_markers"
   ]
  },
  {
   "cell_type": "markdown",
   "metadata": {},
   "source": [
    "### Using Nearest Neighbors"
   ]
  },
  {
   "cell_type": "markdown",
   "metadata": {},
   "source": [
    "Ok, let's write a function that given a latitude and longitude will predict the distance for us.  We'll do this by first finding the nearest trips given a latitude and longitude. "
   ]
  },
  {
   "cell_type": "markdown",
   "metadata": {},
   "source": [
    "Here we once again apply the nearest neighbors formula. As a first step, write a function named `distance_location` that calculates the distance in pickup location between two trips."
   ]
  },
  {
   "cell_type": "code",
   "execution_count": 52,
   "metadata": {},
   "outputs": [],
   "source": [
    "import math\n",
    "\n",
    "def distance_location(selected_trip, neighbor_trip):\n",
    "    \n",
    "    x = selected_trip['pickup_latitude']-neighbor_trip['pickup_latitude']\n",
    "    y = selected_trip['pickup_longitude']-neighbor_trip['pickup_longitude']\n",
    "    z = lambda x,y: math.sqrt(x**2+y**2)\n",
    "    return z(x,y)"
   ]
  },
  {
   "cell_type": "code",
   "execution_count": 53,
   "metadata": {},
   "outputs": [
    {
     "data": {
      "text/plain": [
       "0.235"
      ]
     },
     "execution_count": 53,
     "metadata": {},
     "output_type": "execute_result"
    }
   ],
   "source": [
    "first_trip = {'pickup_latitude': 40.64499, 'pickup_longitude': -73.78115, 'trip_distance': 18.38}\n",
    "second_trip = {'pickup_latitude': 40.766931, 'pickup_longitude': -73.982098, 'trip_distance': 1.3}\n",
    "distance_first_and_second = distance_location(first_trip, second_trip)\n",
    "\n",
    "distance_first_and_second and round(distance_first_and_second, 3) # 0.235"
   ]
  },
  {
   "cell_type": "markdown",
   "metadata": {},
   "source": [
    "Ok, next write a function called `distance_between_neighbors` that adds a new key-value pair, called `distance_from_selected`, that calculates the distance of the `neighbor_trip` from the `selected_trip`."
   ]
  },
  {
   "cell_type": "code",
   "execution_count": 54,
   "metadata": {},
   "outputs": [],
   "source": [
    "def distance_between_neighbors(selected_trip, neighbor_trip):\n",
    "    neighbor_trip['distance_from_selected']=distance_location(selected_trip, neighbor_trip)\n",
    "    return neighbor_trip"
   ]
  },
  {
   "cell_type": "code",
   "execution_count": 55,
   "metadata": {},
   "outputs": [
    {
     "data": {
      "text/plain": [
       "{'pickup_latitude': 40.766931,\n",
       " 'pickup_longitude': -73.982098,\n",
       " 'trip_distance': 1.3,\n",
       " 'distance_from_selected': 0.23505256047318146}"
      ]
     },
     "execution_count": 55,
     "metadata": {},
     "output_type": "execute_result"
    }
   ],
   "source": [
    "distance_between_neighbors(first_trip, second_trip)\n",
    "\n",
    "# {'distance_from_selected': 0.23505256047318146,\n",
    "#  'pickup_latitude': 40.766931,\n",
    "#  'pickup_longitude': -73.982098,\n",
    "#  'trip_distance': 1.3}"
   ]
  },
  {
   "cell_type": "markdown",
   "metadata": {},
   "source": [
    "Ok, now our `neighbor_trip` has another attribute called `distance_from_selected`, that indicates the distance from the `neighbor_trip`'s pickup location from the `selected_trip`."
   ]
  },
  {
   "cell_type": "markdown",
   "metadata": {},
   "source": [
    "> ** Understand the data:** Our dictionary now has a few attributes, two of which say distance.  Let's make sure we understand the difference. \n",
    "> * **`distance_from_selected`:** This is our calculation of the distance of the neighbor's pickup location from the selected trip.\n",
    "> * **`trip_distance`:** This is the attribute we were provided initially.  It tells us the length of the neighbor's taxi trip from pickup to drop-off.  "
   ]
  },
  {
   "cell_type": "markdown",
   "metadata": {},
   "source": [
    "Next, write a function called `distance_all` that provided a list of neighbors, returns each of those neighbors with their respective `distance_from_selected` numbers."
   ]
  },
  {
   "cell_type": "code",
   "execution_count": 56,
   "metadata": {},
   "outputs": [],
   "source": [
    "def distance_all(selected_individual, neighbors):\n",
    "    return list(map(lambda x: distance_between_neighbors(selected_individual, x),neighbors))"
   ]
  },
  {
   "cell_type": "code",
   "execution_count": 57,
   "metadata": {},
   "outputs": [
    {
     "data": {
      "text/plain": [
       "[{'trip_distance': 18.38,\n",
       "  'pickup_latitude': 40.64499,\n",
       "  'pickup_longitude': -73.78115,\n",
       "  'distance_from_selected': 0.0},\n",
       " {'trip_distance': 1.3,\n",
       "  'pickup_latitude': 40.766931,\n",
       "  'pickup_longitude': -73.982098,\n",
       "  'distance_from_selected': 0.23505256047318146},\n",
       " {'trip_distance': 4.5,\n",
       "  'pickup_latitude': 40.77773,\n",
       "  'pickup_longitude': -73.951902,\n",
       "  'distance_from_selected': 0.2162779533470808},\n",
       " {'trip_distance': 2.4,\n",
       "  'pickup_latitude': 40.795678,\n",
       "  'pickup_longitude': -73.971049,\n",
       "  'distance_from_selected': 0.24242215976473674}]"
      ]
     },
     "execution_count": 57,
     "metadata": {},
     "output_type": "execute_result"
    }
   ],
   "source": [
    "cleaned_trips and distance_all(first_trip, cleaned_trips[0:4])"
   ]
  },
  {
   "cell_type": "markdown",
   "metadata": {},
   "source": [
    "Now write the nearest neighbors formula to calculate the distance of the `selected_trip` from all of the `cleaned_trips` in our dataset.  If no number is provided, it should return the top 3 neighbors."
   ]
  },
  {
   "cell_type": "code",
   "execution_count": 58,
   "metadata": {},
   "outputs": [],
   "source": [
    "def nearest_neighbors(selected_trip, trips, number = 3):\n",
    "    return distance_all(selected_trip, trips[:number])"
   ]
  },
  {
   "cell_type": "code",
   "execution_count": 59,
   "metadata": {},
   "outputs": [
    {
     "data": {
      "text/plain": [
       "[{'trip_distance': 18.38,\n",
       "  'pickup_latitude': 40.64499,\n",
       "  'pickup_longitude': -73.78115,\n",
       "  'distance_from_selected': 0.0},\n",
       " {'trip_distance': 1.3,\n",
       "  'pickup_latitude': 40.766931,\n",
       "  'pickup_longitude': -73.982098,\n",
       "  'distance_from_selected': 0.23505256047318146},\n",
       " {'trip_distance': 4.5,\n",
       "  'pickup_latitude': 40.77773,\n",
       "  'pickup_longitude': -73.951902,\n",
       "  'distance_from_selected': 0.2162779533470808}]"
      ]
     },
     "execution_count": 59,
     "metadata": {},
     "output_type": "execute_result"
    }
   ],
   "source": [
    "new_trip = {'pickup_latitude': 40.64499,\n",
    "'pickup_longitude': -73.78115,\n",
    "'trip_distance': 18.38}\n",
    "\n",
    "nearest_three_neighbors = nearest_neighbors(new_trip, cleaned_trips or [], number = 3)\n",
    "nearest_three_neighbors\n",
    "# [{'distance_from_selected': 0.0004569288784918792,\n",
    "#   'pickup_latitude': 40.64483,\n",
    "#   'pickup_longitude': -73.781578,\n",
    "#   'trip_distance': 7.78},\n",
    "#  {'distance_from_selected': 0.0011292165425673159,\n",
    "#   'pickup_latitude': 40.644657,\n",
    "#   'pickup_longitude': -73.782229,\n",
    "#   'trip_distance': 12.7},\n",
    "#  {'distance_from_selected': 0.0042359798158141185,\n",
    "#   'pickup_latitude': 40.648509,\n",
    "#   'pickup_longitude': -73.783508,\n",
    "#   'trip_distance': 17.3}]"
   ]
  },
  {
   "cell_type": "markdown",
   "metadata": {},
   "source": [
    "Ok great! Now that we can provide a new trip location, and find the distances of the three nearest trips, we can take  calculate an estimate of the trip distance for that new trip location.  \n",
    "\n",
    "We do so simply by calculating the average of it's nearest neighbors."
   ]
  },
  {
   "cell_type": "code",
   "execution_count": null,
   "metadata": {},
   "outputs": [],
   "source": [
    "import statistics\n",
    "def mean_distance(neighbors):\n",
    "    nearest_distances = list(map(lambda neighbor: neighbor['trip_distance'], neighbors))\n",
    "    return round(statistics.mean(nearest_distances), 3)\n",
    "\n",
    "nearest_three_neighbors = nearest_neighbors(new_trip, cleaned_trips or [], number = 3)\n",
    "distance_estimate_of_selected_trip = mean_distance(nearest_three_neighbors) # 12.593\n",
    "distance_estimate_of_selected_trip"
   ]
  },
  {
   "cell_type": "markdown",
   "metadata": {},
   "source": [
    "### Choosing the correct number of neighbors"
   ]
  },
  {
   "cell_type": "markdown",
   "metadata": {},
   "source": [
    "Now, as we know from the last lesson, one tricky element is to determine how many neighbors to choose, our $k$ value,  before calculating the average.  We want to choose our value of $k$ such that it properly matches actual data, and so that it applies to new data.  There are fancy formulas to ensure that we **train** our algorithm so that our formula is optimized for all data, but here let's see different $k$ values manually.  This is the gist of choosing our $k$ value:\n",
    "\n",
    "* If we choose a $k$ value too low, our formula will be too heavily influenced by a single neighbor, whereas if our $k$ value is too high, we will be choosing so many neighbors that our nearest neighbors formula will not be adjust enough according to locations.\n",
    "\n",
    "Ok, let's experiment with this."
   ]
  },
  {
   "cell_type": "markdown",
   "metadata": {},
   "source": [
    "First, let's choose a midtown location, to see what the trip distance would be.  A Google search reveals the coordinates of 51st and 7th avenue to be the following."
   ]
  },
  {
   "cell_type": "code",
   "execution_count": null,
   "metadata": {},
   "outputs": [],
   "source": [
    "midtown_trip = dict(pickup_latitude=40.761710, pickup_longitude=-73.982760)"
   ]
  },
  {
   "cell_type": "code",
   "execution_count": null,
   "metadata": {},
   "outputs": [],
   "source": [
    "seven_closest = nearest_neighbors(midtown_trip, cleaned_trips, number = 7)\n",
    "seven_closest\n",
    "# [{'trip_distance': 0.58,\n",
    "#   'pickup_latitude': 40.761372,\n",
    "#   'pickup_longitude': -73.982602,\n",
    "#   'distance_from_selected': 0.00037310588309379025},\n",
    "#  {'trip_distance': 0.8,\n",
    "#   'pickup_latitude': 40.762444,\n",
    "#   'pickup_longitude': -73.98244,\n",
    "#   'distance_from_selected': 0.00080072217404248},\n",
    "#  {'trip_distance': 1.4,\n",
    "#   'pickup_latitude': 40.762767,\n",
    "#   'pickup_longitude': -73.982293,\n",
    "#   'distance_from_selected': 0.0011555682584735844},\n",
    "#  {'trip_distance': 8.3,\n",
    "#   'pickup_latitude': 40.762868,\n",
    "#   'pickup_longitude': -73.983233,\n",
    "#   'distance_from_selected': 0.0012508768924205918},\n",
    "#  {'trip_distance': 1.26,\n",
    "#   'pickup_latitude': 40.760057,\n",
    "#   'pickup_longitude': -73.983502,\n",
    "#   'distance_from_selected': 0.0018118976240381972},\n",
    "#  {'trip_distance': 0.0,\n",
    "#   'pickup_latitude': 40.760644,\n",
    "#   'pickup_longitude': -73.984531,\n",
    "#   'distance_from_selected': 0.002067074502774709},\n",
    "#  {'trip_distance': 1.72,\n",
    "#   'pickup_latitude': 40.762107,\n",
    "#   'pickup_longitude': -73.98479,\n",
    "#   'distance_from_selected': 0.0020684557041472677}]"
   ]
  },
  {
   "cell_type": "markdown",
   "metadata": {},
   "source": [
    "Looking at the `distance_from_selected` it appears that our our trips are still fairly close to our selected trip.  Notice that most of the data is within a distance of .002 away, so going to the top 7 nearest neighbors didn't seem to give us neighbors too far from each other, which is a good sign.\n",
    "\n",
    "Still, it's hard to know what distance in latitude and longitude really look like, so let's map the data. "
   ]
  },
  {
   "cell_type": "code",
   "execution_count": null,
   "metadata": {},
   "outputs": [],
   "source": [
    "midtown_location = location(midtown_trip) # [40.76171, -73.98276]\n",
    "midtown_map = map_from(midtown_location, 16)\n",
    "closest_markers = markers_from_trips(seven_closest)\n",
    "\n",
    "add_markers(closest_markers, midtown_map)"
   ]
  },
  {
   "cell_type": "markdown",
   "metadata": {},
   "source": [
    "Ok.  These locations stay fairly close to our estimated location of 51st street and 7th Avenue.  So they could be a good estimate of a trip distance."
   ]
  },
  {
   "cell_type": "code",
   "execution_count": null,
   "metadata": {},
   "outputs": [],
   "source": [
    "mean_distance(seven_closest) # 2.009"
   ]
  },
  {
   "cell_type": "markdown",
   "metadata": {},
   "source": [
    "Ok, now let's try a different location"
   ]
  },
  {
   "cell_type": "code",
   "execution_count": null,
   "metadata": {},
   "outputs": [],
   "source": [
    "charging_bull_closest = nearest_neighbors({'pickup_latitude': 40.7049, 'pickup_longitude': -74.0137}, cleaned_trips, number = 12)"
   ]
  },
  {
   "cell_type": "code",
   "execution_count": null,
   "metadata": {
    "scrolled": true
   },
   "outputs": [],
   "source": [
    "mean_distance(charging_bull_closest) # 3.145"
   ]
  },
  {
   "cell_type": "markdown",
   "metadata": {},
   "source": [
    "Ok, so there appears to be a significant difference between choosing a location near Times Square versus choosing a location at Wall Street."
   ]
  },
  {
   "cell_type": "markdown",
   "metadata": {},
   "source": [
    "### Summary"
   ]
  },
  {
   "cell_type": "markdown",
   "metadata": {},
   "source": [
    "In this lab, we used the nearest neighbors function to predict the length of a taxi ride.  To do so, we selected a location, then found a number of taxi rides closest to that location, and finally took the average trip lengths of the nearest taxi rides to find an estimate of the new ride's trip length.  You can see that even with just a little bit of math and programming we can begin to make meaningful predictions with data."
   ]
  }
 ],
 "metadata": {
  "kernelspec": {
   "display_name": "Python 3",
   "language": "python",
   "name": "python3"
  },
  "language_info": {
   "codemirror_mode": {
    "name": "ipython",
    "version": 3
   },
   "file_extension": ".py",
   "mimetype": "text/x-python",
   "name": "python",
   "nbconvert_exporter": "python",
   "pygments_lexer": "ipython3",
   "version": "3.6.9"
  }
 },
 "nbformat": 4,
 "nbformat_minor": 2
}
